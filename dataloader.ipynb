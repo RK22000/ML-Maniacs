{
 "cells": [
  {
   "cell_type": "markdown",
   "metadata": {},
   "source": [
    "# Dataloaders to load partial data"
   ]
  },
  {
   "cell_type": "code",
   "execution_count": 1,
   "metadata": {},
   "outputs": [],
   "source": [
    "import dask.dataframe as dd\n",
    "import os\n",
    "import time"
   ]
  },
  {
   "cell_type": "code",
   "execution_count": 8,
   "metadata": {},
   "outputs": [],
   "source": [
    "data_parquet = os.path.join('data','train_series.parquet')\n",
    "data: dd.DataFrame = None\n",
    "grouped_data = None\n",
    "\n",
    "def init():\n",
    "    print(f\"Reading {data_parquet}\")\n",
    "    t=time.time()\n",
    "    # data: dd.DataFrame = dd.read_parquet(data_parquet, columns=['step', 'series_id', 'anglez', 'enmo'], categories=['series_id'])\n",
    "    global data, grouped_data\n",
    "    data = dd.read_parquet(data_parquet)#, columns=['step', 'series_id', 'anglez', 'enmo'], categories=['series_id'])\n",
    "    grouped_data = data.groupby('series_id')\n",
    "    print(f\"Pseudo read and grouped {len(data)} rows from {data_parquet} in {time.time()-t:.3f} seconds\")"
   ]
  },
  {
   "cell_type": "code",
   "execution_count": 9,
   "metadata": {},
   "outputs": [
    {
     "name": "stdout",
     "output_type": "stream",
     "text": [
      "Reading data\\train_series.parquet\n",
      "Pseudo read and grouped 127946340 rows from data\\train_series.parquet in 21.135 seconds\n"
     ]
    }
   ],
   "source": [
    "init()"
   ]
  },
  {
   "cell_type": "code",
   "execution_count": 10,
   "metadata": {},
   "outputs": [
    {
     "data": {
      "text/html": [
       "<div><strong>Dask DataFrame Structure:</strong></div>\n",
       "<div>\n",
       "<style scoped>\n",
       "    .dataframe tbody tr th:only-of-type {\n",
       "        vertical-align: middle;\n",
       "    }\n",
       "\n",
       "    .dataframe tbody tr th {\n",
       "        vertical-align: top;\n",
       "    }\n",
       "\n",
       "    .dataframe thead th {\n",
       "        text-align: right;\n",
       "    }\n",
       "</style>\n",
       "<table border=\"1\" class=\"dataframe\">\n",
       "  <thead>\n",
       "    <tr style=\"text-align: right;\">\n",
       "      <th></th>\n",
       "      <th>series_id</th>\n",
       "      <th>step</th>\n",
       "      <th>timestamp</th>\n",
       "      <th>anglez</th>\n",
       "      <th>enmo</th>\n",
       "    </tr>\n",
       "    <tr>\n",
       "      <th>npartitions=1</th>\n",
       "      <th></th>\n",
       "      <th></th>\n",
       "      <th></th>\n",
       "      <th></th>\n",
       "      <th></th>\n",
       "    </tr>\n",
       "  </thead>\n",
       "  <tbody>\n",
       "    <tr>\n",
       "      <th></th>\n",
       "      <td>object</td>\n",
       "      <td>uint32</td>\n",
       "      <td>object</td>\n",
       "      <td>float32</td>\n",
       "      <td>float32</td>\n",
       "    </tr>\n",
       "    <tr>\n",
       "      <th></th>\n",
       "      <td>...</td>\n",
       "      <td>...</td>\n",
       "      <td>...</td>\n",
       "      <td>...</td>\n",
       "      <td>...</td>\n",
       "    </tr>\n",
       "  </tbody>\n",
       "</table>\n",
       "</div>\n",
       "<div>Dask Name: read-parquet, 1 graph layer</div>"
      ],
      "text/plain": [
       "Dask DataFrame Structure:\n",
       "              series_id    step timestamp   anglez     enmo\n",
       "npartitions=1                                              \n",
       "                 object  uint32    object  float32  float32\n",
       "                    ...     ...       ...      ...      ...\n",
       "Dask Name: read-parquet, 1 graph layer"
      ]
     },
     "execution_count": 10,
     "metadata": {},
     "output_type": "execute_result"
    }
   ],
   "source": [
    "data"
   ]
  },
  {
   "cell_type": "code",
   "execution_count": 11,
   "metadata": {},
   "outputs": [
    {
     "data": {
      "text/plain": [
       "<dask.dataframe.groupby.DataFrameGroupBy at 0x1a8439b6ad0>"
      ]
     },
     "execution_count": 11,
     "metadata": {},
     "output_type": "execute_result"
    }
   ],
   "source": [
    "grouped_data"
   ]
  },
  {
   "cell_type": "code",
   "execution_count": 21,
   "metadata": {},
   "outputs": [],
   "source": [
    "def all_series_ids():\n",
    "    if hasattr(all_series_ids, 'sids'): return all_series_ids.sids\n",
    "    all_series_ids.sids = data['series_id'].unique().compute()\n",
    "    return all_series_ids.sids"
   ]
  },
  {
   "cell_type": "code",
   "execution_count": 22,
   "metadata": {},
   "outputs": [
    {
     "data": {
      "text/plain": [
       "0      038441c925bb\n",
       "1      03d92c9f6f8a\n",
       "2      0402a003dae9\n",
       "3      04f547b8017d\n",
       "4      05e1944c3818\n",
       "           ...     \n",
       "272    fa149c3c4bde\n",
       "273    fb223ed2278c\n",
       "274    fbf33b1a2c10\n",
       "275    fcca183903b7\n",
       "276    fe90110788d2\n",
       "Name: series_id, Length: 277, dtype: object"
      ]
     },
     "execution_count": 22,
     "metadata": {},
     "output_type": "execute_result"
    }
   ],
   "source": [
    "all_series_ids()"
   ]
  },
  {
   "cell_type": "code",
   "execution_count": 23,
   "metadata": {},
   "outputs": [],
   "source": [
    "import pandas as pd\n",
    "\n",
    "def acc_data_for_child(sid):\n",
    "    dir_path = os.path.join('data', 'parsed')\n",
    "    if not os.path.exists(dir_path):\n",
    "        os.makedirs(dir_path)\n",
    "    file_path = os.path.join(dir_path, f'{sid}.parquet')\n",
    "    path_clean = os.path.join(file_path, '.clean.txt')\n",
    "    if os.path.exists(path_clean):\n",
    "        return pd.read_parquet(file_path)\n",
    "    dd.to_parquet(grouped_data.get_group(sid), file_path, write_index=False)\n",
    "    with(open(path_clean, 'w')) as f:\n",
    "        f.write('')\n",
    "    return pd.read_parquet(file_path)\n",
    "\n"
   ]
  },
  {
   "cell_type": "code",
   "execution_count": 24,
   "metadata": {},
   "outputs": [
    {
     "name": "stderr",
     "output_type": "stream",
     "text": [
      "c:\\Users\\rahul\\anaconda3\\Lib\\site-packages\\pyarrow\\pandas_compat.py:373: FutureWarning: is_sparse is deprecated and will be removed in a future version. Check `isinstance(dtype, pd.SparseDtype)` instead.\n",
      "  if _pandas_api.is_sparse(col):\n",
      "c:\\Users\\rahul\\anaconda3\\Lib\\site-packages\\pyarrow\\pandas_compat.py:456: FutureWarning: is_sparse is deprecated and will be removed in a future version. Check `isinstance(dtype, pd.SparseDtype)` instead.\n",
      "  if _pandas_api.is_sparse(col):\n"
     ]
    }
   ],
   "source": [
    "c1 = acc_data_for_child('038441c925bb')"
   ]
  },
  {
   "cell_type": "code",
   "execution_count": 25,
   "metadata": {},
   "outputs": [
    {
     "data": {
      "text/html": [
       "<div>\n",
       "<style scoped>\n",
       "    .dataframe tbody tr th:only-of-type {\n",
       "        vertical-align: middle;\n",
       "    }\n",
       "\n",
       "    .dataframe tbody tr th {\n",
       "        vertical-align: top;\n",
       "    }\n",
       "\n",
       "    .dataframe thead th {\n",
       "        text-align: right;\n",
       "    }\n",
       "</style>\n",
       "<table border=\"1\" class=\"dataframe\">\n",
       "  <thead>\n",
       "    <tr style=\"text-align: right;\">\n",
       "      <th></th>\n",
       "      <th>series_id</th>\n",
       "      <th>step</th>\n",
       "      <th>timestamp</th>\n",
       "      <th>anglez</th>\n",
       "      <th>enmo</th>\n",
       "    </tr>\n",
       "  </thead>\n",
       "  <tbody>\n",
       "    <tr>\n",
       "      <th>0</th>\n",
       "      <td>038441c925bb</td>\n",
       "      <td>0</td>\n",
       "      <td>2018-08-14T15:30:00-0400</td>\n",
       "      <td>2.636700</td>\n",
       "      <td>0.0217</td>\n",
       "    </tr>\n",
       "    <tr>\n",
       "      <th>1</th>\n",
       "      <td>038441c925bb</td>\n",
       "      <td>1</td>\n",
       "      <td>2018-08-14T15:30:05-0400</td>\n",
       "      <td>2.636800</td>\n",
       "      <td>0.0215</td>\n",
       "    </tr>\n",
       "    <tr>\n",
       "      <th>2</th>\n",
       "      <td>038441c925bb</td>\n",
       "      <td>2</td>\n",
       "      <td>2018-08-14T15:30:10-0400</td>\n",
       "      <td>2.637000</td>\n",
       "      <td>0.0216</td>\n",
       "    </tr>\n",
       "    <tr>\n",
       "      <th>3</th>\n",
       "      <td>038441c925bb</td>\n",
       "      <td>3</td>\n",
       "      <td>2018-08-14T15:30:15-0400</td>\n",
       "      <td>2.636800</td>\n",
       "      <td>0.0213</td>\n",
       "    </tr>\n",
       "    <tr>\n",
       "      <th>4</th>\n",
       "      <td>038441c925bb</td>\n",
       "      <td>4</td>\n",
       "      <td>2018-08-14T15:30:20-0400</td>\n",
       "      <td>2.636800</td>\n",
       "      <td>0.0215</td>\n",
       "    </tr>\n",
       "    <tr>\n",
       "      <th>...</th>\n",
       "      <td>...</td>\n",
       "      <td>...</td>\n",
       "      <td>...</td>\n",
       "      <td>...</td>\n",
       "      <td>...</td>\n",
       "    </tr>\n",
       "    <tr>\n",
       "      <th>389875</th>\n",
       "      <td>038441c925bb</td>\n",
       "      <td>389875</td>\n",
       "      <td>2018-09-06T04:59:35-0400</td>\n",
       "      <td>-27.373899</td>\n",
       "      <td>0.0110</td>\n",
       "    </tr>\n",
       "    <tr>\n",
       "      <th>389876</th>\n",
       "      <td>038441c925bb</td>\n",
       "      <td>389876</td>\n",
       "      <td>2018-09-06T04:59:40-0400</td>\n",
       "      <td>-27.493799</td>\n",
       "      <td>0.0110</td>\n",
       "    </tr>\n",
       "    <tr>\n",
       "      <th>389877</th>\n",
       "      <td>038441c925bb</td>\n",
       "      <td>389877</td>\n",
       "      <td>2018-09-06T04:59:45-0400</td>\n",
       "      <td>-27.533701</td>\n",
       "      <td>0.0111</td>\n",
       "    </tr>\n",
       "    <tr>\n",
       "      <th>389878</th>\n",
       "      <td>038441c925bb</td>\n",
       "      <td>389878</td>\n",
       "      <td>2018-09-06T04:59:50-0400</td>\n",
       "      <td>-28.003599</td>\n",
       "      <td>0.0111</td>\n",
       "    </tr>\n",
       "    <tr>\n",
       "      <th>389879</th>\n",
       "      <td>038441c925bb</td>\n",
       "      <td>389879</td>\n",
       "      <td>2018-09-06T04:59:55-0400</td>\n",
       "      <td>-28.656700</td>\n",
       "      <td>0.0125</td>\n",
       "    </tr>\n",
       "  </tbody>\n",
       "</table>\n",
       "<p>389880 rows × 5 columns</p>\n",
       "</div>"
      ],
      "text/plain": [
       "           series_id    step                 timestamp     anglez    enmo\n",
       "0       038441c925bb       0  2018-08-14T15:30:00-0400   2.636700  0.0217\n",
       "1       038441c925bb       1  2018-08-14T15:30:05-0400   2.636800  0.0215\n",
       "2       038441c925bb       2  2018-08-14T15:30:10-0400   2.637000  0.0216\n",
       "3       038441c925bb       3  2018-08-14T15:30:15-0400   2.636800  0.0213\n",
       "4       038441c925bb       4  2018-08-14T15:30:20-0400   2.636800  0.0215\n",
       "...              ...     ...                       ...        ...     ...\n",
       "389875  038441c925bb  389875  2018-09-06T04:59:35-0400 -27.373899  0.0110\n",
       "389876  038441c925bb  389876  2018-09-06T04:59:40-0400 -27.493799  0.0110\n",
       "389877  038441c925bb  389877  2018-09-06T04:59:45-0400 -27.533701  0.0111\n",
       "389878  038441c925bb  389878  2018-09-06T04:59:50-0400 -28.003599  0.0111\n",
       "389879  038441c925bb  389879  2018-09-06T04:59:55-0400 -28.656700  0.0125\n",
       "\n",
       "[389880 rows x 5 columns]"
      ]
     },
     "execution_count": 25,
     "metadata": {},
     "output_type": "execute_result"
    }
   ],
   "source": [
    "c1"
   ]
  },
  {
   "cell_type": "code",
   "execution_count": null,
   "metadata": {},
   "outputs": [],
   "source": []
  },
  {
   "cell_type": "code",
   "execution_count": 26,
   "metadata": {},
   "outputs": [],
   "source": [
    "c1 = acc_data_for_child('038441c925bb')"
   ]
  },
  {
   "cell_type": "code",
   "execution_count": 27,
   "metadata": {},
   "outputs": [
    {
     "data": {
      "text/html": [
       "<div>\n",
       "<style scoped>\n",
       "    .dataframe tbody tr th:only-of-type {\n",
       "        vertical-align: middle;\n",
       "    }\n",
       "\n",
       "    .dataframe tbody tr th {\n",
       "        vertical-align: top;\n",
       "    }\n",
       "\n",
       "    .dataframe thead th {\n",
       "        text-align: right;\n",
       "    }\n",
       "</style>\n",
       "<table border=\"1\" class=\"dataframe\">\n",
       "  <thead>\n",
       "    <tr style=\"text-align: right;\">\n",
       "      <th></th>\n",
       "      <th>series_id</th>\n",
       "      <th>step</th>\n",
       "      <th>timestamp</th>\n",
       "      <th>anglez</th>\n",
       "      <th>enmo</th>\n",
       "    </tr>\n",
       "  </thead>\n",
       "  <tbody>\n",
       "    <tr>\n",
       "      <th>0</th>\n",
       "      <td>038441c925bb</td>\n",
       "      <td>0</td>\n",
       "      <td>2018-08-14T15:30:00-0400</td>\n",
       "      <td>2.636700</td>\n",
       "      <td>0.0217</td>\n",
       "    </tr>\n",
       "    <tr>\n",
       "      <th>1</th>\n",
       "      <td>038441c925bb</td>\n",
       "      <td>1</td>\n",
       "      <td>2018-08-14T15:30:05-0400</td>\n",
       "      <td>2.636800</td>\n",
       "      <td>0.0215</td>\n",
       "    </tr>\n",
       "    <tr>\n",
       "      <th>2</th>\n",
       "      <td>038441c925bb</td>\n",
       "      <td>2</td>\n",
       "      <td>2018-08-14T15:30:10-0400</td>\n",
       "      <td>2.637000</td>\n",
       "      <td>0.0216</td>\n",
       "    </tr>\n",
       "    <tr>\n",
       "      <th>3</th>\n",
       "      <td>038441c925bb</td>\n",
       "      <td>3</td>\n",
       "      <td>2018-08-14T15:30:15-0400</td>\n",
       "      <td>2.636800</td>\n",
       "      <td>0.0213</td>\n",
       "    </tr>\n",
       "    <tr>\n",
       "      <th>4</th>\n",
       "      <td>038441c925bb</td>\n",
       "      <td>4</td>\n",
       "      <td>2018-08-14T15:30:20-0400</td>\n",
       "      <td>2.636800</td>\n",
       "      <td>0.0215</td>\n",
       "    </tr>\n",
       "    <tr>\n",
       "      <th>...</th>\n",
       "      <td>...</td>\n",
       "      <td>...</td>\n",
       "      <td>...</td>\n",
       "      <td>...</td>\n",
       "      <td>...</td>\n",
       "    </tr>\n",
       "    <tr>\n",
       "      <th>389875</th>\n",
       "      <td>038441c925bb</td>\n",
       "      <td>389875</td>\n",
       "      <td>2018-09-06T04:59:35-0400</td>\n",
       "      <td>-27.373899</td>\n",
       "      <td>0.0110</td>\n",
       "    </tr>\n",
       "    <tr>\n",
       "      <th>389876</th>\n",
       "      <td>038441c925bb</td>\n",
       "      <td>389876</td>\n",
       "      <td>2018-09-06T04:59:40-0400</td>\n",
       "      <td>-27.493799</td>\n",
       "      <td>0.0110</td>\n",
       "    </tr>\n",
       "    <tr>\n",
       "      <th>389877</th>\n",
       "      <td>038441c925bb</td>\n",
       "      <td>389877</td>\n",
       "      <td>2018-09-06T04:59:45-0400</td>\n",
       "      <td>-27.533701</td>\n",
       "      <td>0.0111</td>\n",
       "    </tr>\n",
       "    <tr>\n",
       "      <th>389878</th>\n",
       "      <td>038441c925bb</td>\n",
       "      <td>389878</td>\n",
       "      <td>2018-09-06T04:59:50-0400</td>\n",
       "      <td>-28.003599</td>\n",
       "      <td>0.0111</td>\n",
       "    </tr>\n",
       "    <tr>\n",
       "      <th>389879</th>\n",
       "      <td>038441c925bb</td>\n",
       "      <td>389879</td>\n",
       "      <td>2018-09-06T04:59:55-0400</td>\n",
       "      <td>-28.656700</td>\n",
       "      <td>0.0125</td>\n",
       "    </tr>\n",
       "  </tbody>\n",
       "</table>\n",
       "<p>389880 rows × 5 columns</p>\n",
       "</div>"
      ],
      "text/plain": [
       "           series_id    step                 timestamp     anglez    enmo\n",
       "0       038441c925bb       0  2018-08-14T15:30:00-0400   2.636700  0.0217\n",
       "1       038441c925bb       1  2018-08-14T15:30:05-0400   2.636800  0.0215\n",
       "2       038441c925bb       2  2018-08-14T15:30:10-0400   2.637000  0.0216\n",
       "3       038441c925bb       3  2018-08-14T15:30:15-0400   2.636800  0.0213\n",
       "4       038441c925bb       4  2018-08-14T15:30:20-0400   2.636800  0.0215\n",
       "...              ...     ...                       ...        ...     ...\n",
       "389875  038441c925bb  389875  2018-09-06T04:59:35-0400 -27.373899  0.0110\n",
       "389876  038441c925bb  389876  2018-09-06T04:59:40-0400 -27.493799  0.0110\n",
       "389877  038441c925bb  389877  2018-09-06T04:59:45-0400 -27.533701  0.0111\n",
       "389878  038441c925bb  389878  2018-09-06T04:59:50-0400 -28.003599  0.0111\n",
       "389879  038441c925bb  389879  2018-09-06T04:59:55-0400 -28.656700  0.0125\n",
       "\n",
       "[389880 rows x 5 columns]"
      ]
     },
     "execution_count": 27,
     "metadata": {},
     "output_type": "execute_result"
    }
   ],
   "source": [
    "c1"
   ]
  }
 ],
 "metadata": {
  "kernelspec": {
   "display_name": "base",
   "language": "python",
   "name": "python3"
  },
  "language_info": {
   "codemirror_mode": {
    "name": "ipython",
    "version": 3
   },
   "file_extension": ".py",
   "mimetype": "text/x-python",
   "name": "python",
   "nbconvert_exporter": "python",
   "pygments_lexer": "ipython3",
   "version": "3.11.6"
  }
 },
 "nbformat": 4,
 "nbformat_minor": 2
}
