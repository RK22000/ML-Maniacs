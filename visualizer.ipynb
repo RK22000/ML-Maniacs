{
 "cells": [
  {
   "cell_type": "markdown",
   "id": "7d918602-8a5a-4d6b-9614-03150f3332b4",
   "metadata": {},
   "source": [
    "# Instance visualizer\n",
    "In this notebook I'm going to eplore different ways I can visualize an instant. I'll use this to create a video visualization of continous instances one after the other"
   ]
  },
  {
   "cell_type": "markdown",
   "id": "2f342c6d-8b64-4582-89af-771d078984ea",
   "metadata": {
    "jp-MarkdownHeadingCollapsed": true
   },
   "source": [
    "#### Some Code (ignoreable)"
   ]
  },
  {
   "cell_type": "code",
   "execution_count": 95,
   "id": "02d25f5c-51e6-48db-8ee0-70a0840ab541",
   "metadata": {},
   "outputs": [],
   "source": [
    "import dataloader\n",
    "import pandas as pd\n",
    "import os\n",
    "import numpy as np\n",
    "sid = '08db4255286f'"
   ]
  },
  {
   "cell_type": "code",
   "execution_count": 27,
   "id": "6c2a4639-5ef9-465f-a0b8-953dfffad7b3",
   "metadata": {},
   "outputs": [],
   "source": [
    "import importlib\n",
    "importlib.reload(dataloader)\n",
    "acc_data = dataloader.acc_data_for_child(sid)"
   ]
  },
  {
   "cell_type": "code",
   "execution_count": 28,
   "id": "5c63a7db-4c30-4eb8-9521-b562b28eeeac",
   "metadata": {},
   "outputs": [
    {
     "data": {
      "text/html": [
       "<div>\n",
       "<style scoped>\n",
       "    .dataframe tbody tr th:only-of-type {\n",
       "        vertical-align: middle;\n",
       "    }\n",
       "\n",
       "    .dataframe tbody tr th {\n",
       "        vertical-align: top;\n",
       "    }\n",
       "\n",
       "    .dataframe thead th {\n",
       "        text-align: right;\n",
       "    }\n",
       "</style>\n",
       "<table border=\"1\" class=\"dataframe\">\n",
       "  <thead>\n",
       "    <tr style=\"text-align: right;\">\n",
       "      <th></th>\n",
       "      <th>series_id</th>\n",
       "      <th>step</th>\n",
       "      <th>timestamp</th>\n",
       "      <th>anglez</th>\n",
       "      <th>enmo</th>\n",
       "    </tr>\n",
       "  </thead>\n",
       "  <tbody>\n",
       "    <tr>\n",
       "      <th>0</th>\n",
       "      <td>08db4255286f</td>\n",
       "      <td>0</td>\n",
       "      <td>2018-11-05 14:00:00+00:00</td>\n",
       "      <td>-30.845301</td>\n",
       "      <td>0.0447</td>\n",
       "    </tr>\n",
       "    <tr>\n",
       "      <th>1</th>\n",
       "      <td>08db4255286f</td>\n",
       "      <td>1</td>\n",
       "      <td>2018-11-05 14:00:05+00:00</td>\n",
       "      <td>-34.181801</td>\n",
       "      <td>0.0443</td>\n",
       "    </tr>\n",
       "    <tr>\n",
       "      <th>2</th>\n",
       "      <td>08db4255286f</td>\n",
       "      <td>2</td>\n",
       "      <td>2018-11-05 14:00:10+00:00</td>\n",
       "      <td>-33.877102</td>\n",
       "      <td>0.0483</td>\n",
       "    </tr>\n",
       "    <tr>\n",
       "      <th>3</th>\n",
       "      <td>08db4255286f</td>\n",
       "      <td>3</td>\n",
       "      <td>2018-11-05 14:00:15+00:00</td>\n",
       "      <td>-34.282101</td>\n",
       "      <td>0.0680</td>\n",
       "    </tr>\n",
       "    <tr>\n",
       "      <th>4</th>\n",
       "      <td>08db4255286f</td>\n",
       "      <td>4</td>\n",
       "      <td>2018-11-05 14:00:20+00:00</td>\n",
       "      <td>-34.385799</td>\n",
       "      <td>0.0768</td>\n",
       "    </tr>\n",
       "  </tbody>\n",
       "</table>\n",
       "</div>"
      ],
      "text/plain": [
       "      series_id  step                 timestamp     anglez    enmo\n",
       "0  08db4255286f     0 2018-11-05 14:00:00+00:00 -30.845301  0.0447\n",
       "1  08db4255286f     1 2018-11-05 14:00:05+00:00 -34.181801  0.0443\n",
       "2  08db4255286f     2 2018-11-05 14:00:10+00:00 -33.877102  0.0483\n",
       "3  08db4255286f     3 2018-11-05 14:00:15+00:00 -34.282101  0.0680\n",
       "4  08db4255286f     4 2018-11-05 14:00:20+00:00 -34.385799  0.0768"
      ]
     },
     "execution_count": 28,
     "metadata": {},
     "output_type": "execute_result"
    }
   ],
   "source": [
    "acc_data.head()"
   ]
  },
  {
   "cell_type": "code",
   "execution_count": 33,
   "id": "e7bff50a-88e6-4841-913b-c1465fbbb321",
   "metadata": {},
   "outputs": [
    {
     "data": {
      "text/html": [
       "<div>\n",
       "<style scoped>\n",
       "    .dataframe tbody tr th:only-of-type {\n",
       "        vertical-align: middle;\n",
       "    }\n",
       "\n",
       "    .dataframe tbody tr th {\n",
       "        vertical-align: top;\n",
       "    }\n",
       "\n",
       "    .dataframe thead th {\n",
       "        text-align: right;\n",
       "    }\n",
       "</style>\n",
       "<table border=\"1\" class=\"dataframe\">\n",
       "  <thead>\n",
       "    <tr style=\"text-align: right;\">\n",
       "      <th></th>\n",
       "      <th>series_id</th>\n",
       "      <th>night</th>\n",
       "      <th>event</th>\n",
       "      <th>step</th>\n",
       "      <th>timestamp</th>\n",
       "    </tr>\n",
       "  </thead>\n",
       "  <tbody>\n",
       "    <tr>\n",
       "      <th>398</th>\n",
       "      <td>08db4255286f</td>\n",
       "      <td>1</td>\n",
       "      <td>onset</td>\n",
       "      <td>11988.0</td>\n",
       "      <td>2018-11-06T02:39:00-0400</td>\n",
       "    </tr>\n",
       "    <tr>\n",
       "      <th>399</th>\n",
       "      <td>08db4255286f</td>\n",
       "      <td>1</td>\n",
       "      <td>wakeup</td>\n",
       "      <td>14388.0</td>\n",
       "      <td>2018-11-06T05:59:00-0400</td>\n",
       "    </tr>\n",
       "    <tr>\n",
       "      <th>400</th>\n",
       "      <td>08db4255286f</td>\n",
       "      <td>2</td>\n",
       "      <td>onset</td>\n",
       "      <td>28680.0</td>\n",
       "      <td>2018-11-07T01:50:00-0400</td>\n",
       "    </tr>\n",
       "    <tr>\n",
       "      <th>401</th>\n",
       "      <td>08db4255286f</td>\n",
       "      <td>2</td>\n",
       "      <td>wakeup</td>\n",
       "      <td>31320.0</td>\n",
       "      <td>2018-11-07T05:30:00-0400</td>\n",
       "    </tr>\n",
       "    <tr>\n",
       "      <th>402</th>\n",
       "      <td>08db4255286f</td>\n",
       "      <td>3</td>\n",
       "      <td>onset</td>\n",
       "      <td>44184.0</td>\n",
       "      <td>2018-11-07T23:22:00-0400</td>\n",
       "    </tr>\n",
       "  </tbody>\n",
       "</table>\n",
       "</div>"
      ],
      "text/plain": [
       "        series_id  night   event     step                 timestamp\n",
       "398  08db4255286f      1   onset  11988.0  2018-11-06T02:39:00-0400\n",
       "399  08db4255286f      1  wakeup  14388.0  2018-11-06T05:59:00-0400\n",
       "400  08db4255286f      2   onset  28680.0  2018-11-07T01:50:00-0400\n",
       "401  08db4255286f      2  wakeup  31320.0  2018-11-07T05:30:00-0400\n",
       "402  08db4255286f      3   onset  44184.0  2018-11-07T23:22:00-0400"
      ]
     },
     "execution_count": 33,
     "metadata": {},
     "output_type": "execute_result"
    }
   ],
   "source": [
    "events = pd.read_csv(os.path.join('data', 'train_events.csv'))\n",
    "# events['timestamp'] = pd.to_datetime(events['timestamp'], utc=True)\n",
    "events[events['series_id']==sid].head()"
   ]
  },
  {
   "cell_type": "code",
   "execution_count": 30,
   "id": "832ae078-f4ad-43cf-9596-bb971bbddfa5",
   "metadata": {},
   "outputs": [],
   "source": [
    "dataloader.annotate_sid(acc_data, events, sid)"
   ]
  },
  {
   "cell_type": "code",
   "execution_count": 31,
   "id": "8864b4fc-20c6-48d5-91a0-a9dd33ae8f4a",
   "metadata": {},
   "outputs": [
    {
     "data": {
      "text/html": [
       "<div>\n",
       "<style scoped>\n",
       "    .dataframe tbody tr th:only-of-type {\n",
       "        vertical-align: middle;\n",
       "    }\n",
       "\n",
       "    .dataframe tbody tr th {\n",
       "        vertical-align: top;\n",
       "    }\n",
       "\n",
       "    .dataframe thead th {\n",
       "        text-align: right;\n",
       "    }\n",
       "</style>\n",
       "<table border=\"1\" class=\"dataframe\">\n",
       "  <thead>\n",
       "    <tr style=\"text-align: right;\">\n",
       "      <th></th>\n",
       "      <th>series_id</th>\n",
       "      <th>step</th>\n",
       "      <th>timestamp</th>\n",
       "      <th>anglez</th>\n",
       "      <th>enmo</th>\n",
       "      <th>activity</th>\n",
       "    </tr>\n",
       "  </thead>\n",
       "  <tbody>\n",
       "    <tr>\n",
       "      <th>403563</th>\n",
       "      <td>08db4255286f</td>\n",
       "      <td>403563</td>\n",
       "      <td>2018-11-28 22:30:15+00:00</td>\n",
       "      <td>-30.268499</td>\n",
       "      <td>0.0014</td>\n",
       "      <td>Waking</td>\n",
       "    </tr>\n",
       "    <tr>\n",
       "      <th>13748</th>\n",
       "      <td>08db4255286f</td>\n",
       "      <td>13748</td>\n",
       "      <td>2018-11-06 09:05:40+00:00</td>\n",
       "      <td>-38.463799</td>\n",
       "      <td>0.0036</td>\n",
       "      <td>Sleeping</td>\n",
       "    </tr>\n",
       "    <tr>\n",
       "      <th>121472</th>\n",
       "      <td>08db4255286f</td>\n",
       "      <td>121472</td>\n",
       "      <td>2018-11-12 14:42:40+00:00</td>\n",
       "      <td>-49.263000</td>\n",
       "      <td>0.0097</td>\n",
       "      <td>Waking</td>\n",
       "    </tr>\n",
       "    <tr>\n",
       "      <th>435261</th>\n",
       "      <td>08db4255286f</td>\n",
       "      <td>435261</td>\n",
       "      <td>2018-11-30 18:31:45+00:00</td>\n",
       "      <td>-39.793400</td>\n",
       "      <td>0.0000</td>\n",
       "      <td>Waking</td>\n",
       "    </tr>\n",
       "    <tr>\n",
       "      <th>393944</th>\n",
       "      <td>08db4255286f</td>\n",
       "      <td>393944</td>\n",
       "      <td>2018-11-28 09:08:40+00:00</td>\n",
       "      <td>-36.602600</td>\n",
       "      <td>0.0000</td>\n",
       "      <td>Sleeping</td>\n",
       "    </tr>\n",
       "    <tr>\n",
       "      <th>285283</th>\n",
       "      <td>08db4255286f</td>\n",
       "      <td>285283</td>\n",
       "      <td>2018-11-22 02:13:35+00:00</td>\n",
       "      <td>-39.417599</td>\n",
       "      <td>0.0028</td>\n",
       "      <td>Waking</td>\n",
       "    </tr>\n",
       "    <tr>\n",
       "      <th>429034</th>\n",
       "      <td>08db4255286f</td>\n",
       "      <td>429034</td>\n",
       "      <td>2018-11-30 09:52:50+00:00</td>\n",
       "      <td>-8.503400</td>\n",
       "      <td>0.0090</td>\n",
       "      <td>Sleeping</td>\n",
       "    </tr>\n",
       "    <tr>\n",
       "      <th>341252</th>\n",
       "      <td>08db4255286f</td>\n",
       "      <td>341252</td>\n",
       "      <td>2018-11-25 07:57:40+00:00</td>\n",
       "      <td>-49.583500</td>\n",
       "      <td>0.0000</td>\n",
       "      <td>Sleeping</td>\n",
       "    </tr>\n",
       "    <tr>\n",
       "      <th>174171</th>\n",
       "      <td>08db4255286f</td>\n",
       "      <td>174171</td>\n",
       "      <td>2018-11-15 15:54:15+00:00</td>\n",
       "      <td>4.827000</td>\n",
       "      <td>0.0172</td>\n",
       "      <td>Waking</td>\n",
       "    </tr>\n",
       "    <tr>\n",
       "      <th>37874</th>\n",
       "      <td>08db4255286f</td>\n",
       "      <td>37874</td>\n",
       "      <td>2018-11-07 18:36:10+00:00</td>\n",
       "      <td>-22.068600</td>\n",
       "      <td>0.1338</td>\n",
       "      <td>Waking</td>\n",
       "    </tr>\n",
       "  </tbody>\n",
       "</table>\n",
       "</div>"
      ],
      "text/plain": [
       "           series_id    step                 timestamp     anglez    enmo  \\\n",
       "403563  08db4255286f  403563 2018-11-28 22:30:15+00:00 -30.268499  0.0014   \n",
       "13748   08db4255286f   13748 2018-11-06 09:05:40+00:00 -38.463799  0.0036   \n",
       "121472  08db4255286f  121472 2018-11-12 14:42:40+00:00 -49.263000  0.0097   \n",
       "435261  08db4255286f  435261 2018-11-30 18:31:45+00:00 -39.793400  0.0000   \n",
       "393944  08db4255286f  393944 2018-11-28 09:08:40+00:00 -36.602600  0.0000   \n",
       "285283  08db4255286f  285283 2018-11-22 02:13:35+00:00 -39.417599  0.0028   \n",
       "429034  08db4255286f  429034 2018-11-30 09:52:50+00:00  -8.503400  0.0090   \n",
       "341252  08db4255286f  341252 2018-11-25 07:57:40+00:00 -49.583500  0.0000   \n",
       "174171  08db4255286f  174171 2018-11-15 15:54:15+00:00   4.827000  0.0172   \n",
       "37874   08db4255286f   37874 2018-11-07 18:36:10+00:00 -22.068600  0.1338   \n",
       "\n",
       "        activity  \n",
       "403563    Waking  \n",
       "13748   Sleeping  \n",
       "121472    Waking  \n",
       "435261    Waking  \n",
       "393944  Sleeping  \n",
       "285283    Waking  \n",
       "429034  Sleeping  \n",
       "341252  Sleeping  \n",
       "174171    Waking  \n",
       "37874     Waking  "
      ]
     },
     "execution_count": 31,
     "metadata": {},
     "output_type": "execute_result"
    }
   ],
   "source": [
    "acc_data.sample(10)"
   ]
  },
  {
   "cell_type": "markdown",
   "id": "553a3a88-77b9-482b-a4a3-bb07584ebe2a",
   "metadata": {},
   "source": [
    "##### 20 minutes before and after a timestamp"
   ]
  },
  {
   "cell_type": "code",
   "execution_count": 35,
   "id": "0415f6c3-e143-4c91-8018-ec6089cc8487",
   "metadata": {},
   "outputs": [
    {
     "data": {
      "text/plain": [
       "Timestamp('2018-11-07 05:50:00+0000', tz='UTC')"
      ]
     },
     "execution_count": 35,
     "metadata": {},
     "output_type": "execute_result"
    }
   ],
   "source": [
    "ts = pd.Timestamp('2018-11-07 05:50:00+00:00')\n",
    "ts"
   ]
  },
  {
   "cell_type": "code",
   "execution_count": 36,
   "id": "214a5730-4296-416f-91e4-dd7db5ddb690",
   "metadata": {},
   "outputs": [],
   "source": [
    "delta = pd.Timedelta(20, 'min')"
   ]
  },
  {
   "cell_type": "code",
   "execution_count": 37,
   "id": "59ad37a3-db76-44ef-b54c-503944faa941",
   "metadata": {},
   "outputs": [
    {
     "data": {
      "text/plain": [
       "(Timestamp('2018-11-07 05:30:00+0000', tz='UTC'),\n",
       " Timestamp('2018-11-07 06:10:00+0000', tz='UTC'))"
      ]
     },
     "execution_count": 37,
     "metadata": {},
     "output_type": "execute_result"
    }
   ],
   "source": [
    "(ts - delta, ts + delta)"
   ]
  },
  {
   "cell_type": "code",
   "execution_count": 38,
   "id": "d82f0587-68b4-4c59-9d78-aee3383f8fc8",
   "metadata": {
    "scrolled": true
   },
   "outputs": [
    {
     "data": {
      "text/plain": [
       "0         False\n",
       "1         False\n",
       "2         False\n",
       "3         False\n",
       "4         False\n",
       "          ...  \n",
       "440275    False\n",
       "440276    False\n",
       "440277    False\n",
       "440278    False\n",
       "440279    False\n",
       "Name: timestamp, Length: 440280, dtype: bool"
      ]
     },
     "execution_count": 38,
     "metadata": {},
     "output_type": "execute_result"
    }
   ],
   "source": [
    "idx = (acc_data['timestamp'] >= (ts-delta)) & (acc_data['timestamp'] < (ts+delta))\n",
    "idx"
   ]
  },
  {
   "cell_type": "code",
   "execution_count": 41,
   "id": "d44e446d-f810-4357-bad3-c403d4a4e7ed",
   "metadata": {},
   "outputs": [],
   "source": [
    "dat = acc_data.loc[idx]"
   ]
  },
  {
   "cell_type": "code",
   "execution_count": 42,
   "id": "8ba8827f-8167-48c8-b195-31be088a81bc",
   "metadata": {},
   "outputs": [
    {
     "data": {
      "text/html": [
       "<div>\n",
       "<style scoped>\n",
       "    .dataframe tbody tr th:only-of-type {\n",
       "        vertical-align: middle;\n",
       "    }\n",
       "\n",
       "    .dataframe tbody tr th {\n",
       "        vertical-align: top;\n",
       "    }\n",
       "\n",
       "    .dataframe thead th {\n",
       "        text-align: right;\n",
       "    }\n",
       "</style>\n",
       "<table border=\"1\" class=\"dataframe\">\n",
       "  <thead>\n",
       "    <tr style=\"text-align: right;\">\n",
       "      <th></th>\n",
       "      <th>series_id</th>\n",
       "      <th>step</th>\n",
       "      <th>timestamp</th>\n",
       "      <th>anglez</th>\n",
       "      <th>enmo</th>\n",
       "      <th>activity</th>\n",
       "    </tr>\n",
       "  </thead>\n",
       "  <tbody>\n",
       "    <tr>\n",
       "      <th>28440</th>\n",
       "      <td>08db4255286f</td>\n",
       "      <td>28440</td>\n",
       "      <td>2018-11-07 05:30:00+00:00</td>\n",
       "      <td>-9.133200</td>\n",
       "      <td>0.0196</td>\n",
       "      <td>Waking</td>\n",
       "    </tr>\n",
       "    <tr>\n",
       "      <th>28441</th>\n",
       "      <td>08db4255286f</td>\n",
       "      <td>28441</td>\n",
       "      <td>2018-11-07 05:30:05+00:00</td>\n",
       "      <td>-18.069099</td>\n",
       "      <td>0.0231</td>\n",
       "      <td>Waking</td>\n",
       "    </tr>\n",
       "    <tr>\n",
       "      <th>28442</th>\n",
       "      <td>08db4255286f</td>\n",
       "      <td>28442</td>\n",
       "      <td>2018-11-07 05:30:10+00:00</td>\n",
       "      <td>-13.427700</td>\n",
       "      <td>0.0067</td>\n",
       "      <td>Waking</td>\n",
       "    </tr>\n",
       "    <tr>\n",
       "      <th>28443</th>\n",
       "      <td>08db4255286f</td>\n",
       "      <td>28443</td>\n",
       "      <td>2018-11-07 05:30:15+00:00</td>\n",
       "      <td>-14.469100</td>\n",
       "      <td>0.0037</td>\n",
       "      <td>Waking</td>\n",
       "    </tr>\n",
       "    <tr>\n",
       "      <th>28444</th>\n",
       "      <td>08db4255286f</td>\n",
       "      <td>28444</td>\n",
       "      <td>2018-11-07 05:30:20+00:00</td>\n",
       "      <td>-15.659200</td>\n",
       "      <td>0.0042</td>\n",
       "      <td>Waking</td>\n",
       "    </tr>\n",
       "    <tr>\n",
       "      <th>...</th>\n",
       "      <td>...</td>\n",
       "      <td>...</td>\n",
       "      <td>...</td>\n",
       "      <td>...</td>\n",
       "      <td>...</td>\n",
       "      <td>...</td>\n",
       "    </tr>\n",
       "    <tr>\n",
       "      <th>28915</th>\n",
       "      <td>08db4255286f</td>\n",
       "      <td>28915</td>\n",
       "      <td>2018-11-07 06:09:35+00:00</td>\n",
       "      <td>6.902200</td>\n",
       "      <td>0.0067</td>\n",
       "      <td>Sleeping</td>\n",
       "    </tr>\n",
       "    <tr>\n",
       "      <th>28916</th>\n",
       "      <td>08db4255286f</td>\n",
       "      <td>28916</td>\n",
       "      <td>2018-11-07 06:09:40+00:00</td>\n",
       "      <td>6.904900</td>\n",
       "      <td>0.0067</td>\n",
       "      <td>Sleeping</td>\n",
       "    </tr>\n",
       "    <tr>\n",
       "      <th>28917</th>\n",
       "      <td>08db4255286f</td>\n",
       "      <td>28917</td>\n",
       "      <td>2018-11-07 06:09:45+00:00</td>\n",
       "      <td>6.905900</td>\n",
       "      <td>0.0067</td>\n",
       "      <td>Sleeping</td>\n",
       "    </tr>\n",
       "    <tr>\n",
       "      <th>28918</th>\n",
       "      <td>08db4255286f</td>\n",
       "      <td>28918</td>\n",
       "      <td>2018-11-07 06:09:50+00:00</td>\n",
       "      <td>6.905900</td>\n",
       "      <td>0.0067</td>\n",
       "      <td>Sleeping</td>\n",
       "    </tr>\n",
       "    <tr>\n",
       "      <th>28919</th>\n",
       "      <td>08db4255286f</td>\n",
       "      <td>28919</td>\n",
       "      <td>2018-11-07 06:09:55+00:00</td>\n",
       "      <td>6.905400</td>\n",
       "      <td>0.0065</td>\n",
       "      <td>Sleeping</td>\n",
       "    </tr>\n",
       "  </tbody>\n",
       "</table>\n",
       "<p>480 rows × 6 columns</p>\n",
       "</div>"
      ],
      "text/plain": [
       "          series_id   step                 timestamp     anglez    enmo  \\\n",
       "28440  08db4255286f  28440 2018-11-07 05:30:00+00:00  -9.133200  0.0196   \n",
       "28441  08db4255286f  28441 2018-11-07 05:30:05+00:00 -18.069099  0.0231   \n",
       "28442  08db4255286f  28442 2018-11-07 05:30:10+00:00 -13.427700  0.0067   \n",
       "28443  08db4255286f  28443 2018-11-07 05:30:15+00:00 -14.469100  0.0037   \n",
       "28444  08db4255286f  28444 2018-11-07 05:30:20+00:00 -15.659200  0.0042   \n",
       "...             ...    ...                       ...        ...     ...   \n",
       "28915  08db4255286f  28915 2018-11-07 06:09:35+00:00   6.902200  0.0067   \n",
       "28916  08db4255286f  28916 2018-11-07 06:09:40+00:00   6.904900  0.0067   \n",
       "28917  08db4255286f  28917 2018-11-07 06:09:45+00:00   6.905900  0.0067   \n",
       "28918  08db4255286f  28918 2018-11-07 06:09:50+00:00   6.905900  0.0067   \n",
       "28919  08db4255286f  28919 2018-11-07 06:09:55+00:00   6.905400  0.0065   \n",
       "\n",
       "       activity  \n",
       "28440    Waking  \n",
       "28441    Waking  \n",
       "28442    Waking  \n",
       "28443    Waking  \n",
       "28444    Waking  \n",
       "...         ...  \n",
       "28915  Sleeping  \n",
       "28916  Sleeping  \n",
       "28917  Sleeping  \n",
       "28918  Sleeping  \n",
       "28919  Sleeping  \n",
       "\n",
       "[480 rows x 6 columns]"
      ]
     },
     "execution_count": 42,
     "metadata": {},
     "output_type": "execute_result"
    }
   ],
   "source": [
    "dat"
   ]
  },
  {
   "cell_type": "markdown",
   "id": "eede8e78-6679-4ee2-ba27-35545136e3cd",
   "metadata": {},
   "source": [
    "## Visual Frame\n",
    "\n",
    "To visualize the data at a fixed timestamp I'm taking all the data 20 minutes before and after that timestamp, then plotting their `anglez` and `enmo`. Each point is also given a color based on how many steps it is before or ahead of the timestamp. Finally I added a jitter to the cordinates to reveal points that are hidden one behind the other.\n",
    "\n",
    "Run the next cell to see an example of a frame where the child transitioned from waking to sleeping"
   ]
  },
  {
   "cell_type": "code",
   "execution_count": 174,
   "id": "eb4bf07c-0eaf-44c8-aa52-77fe21a1284d",
   "metadata": {},
   "outputs": [
    {
     "data": {
      "image/png": "[encoded data removed]",
      "text/plain": [
       "<Figure size 640x480 with 2 Axes>"
      ]
     },
     "metadata": {},
     "output_type": "display_data"
    }
   ],
   "source": [
    "# %matplotlib inline # To show a static image in the notebook\n",
    "%matplotlib # To show the interactive video using matplotlib backend\n",
    "import matplotlib.pyplot as plt\n",
    "from matplotlib.axes import Axes\n",
    "import matplotlib.animation as anim\n",
    "fig, ax = plt.subplots()\n",
    "ax: Axes = ax\n",
    "x = dat['anglez']\n",
    "y = dat['enmo']\n",
    "dat_len = len(dat)\n",
    "mid = dat['step'].iat[int(dat_len/2)]\n",
    "c = [i - mid for i in dat['step']]\n",
    "coll = ax.scatter(x,y, c=c, cmap='plasma', marker='.')\n",
    "plt.colorbar(coll, ax=ax)\n",
    "txt = ax.text(-10,0.15,'Some Text')\n",
    "x_jit = (np.random.random_sample((dat_len,))-0.5)*x.std()\n",
    "y_jit = (np.random.random_sample((dat_len,))-0.5)*y.std()\n",
    "jit = [0, 0.1, 0.2, 0.3]\n",
    "def animate(frame):\n",
    "    j = jit[frame]\n",
    "    coll.set(offsets=[i for i in zip(x+x_jit*j, y+y_jit*j)])\n",
    "    txt.set_text(f'Jitter factor = {j}')\n",
    "    return [coll, txt]\n",
    "ani = anim.FuncAnimation(func=animate, fig=fig, frames=len(jit), blit=True, interval=500)\n",
    "plt.show()"
   ]
  },
  {
   "cell_type": "code",
   "execution_count": null,
   "id": "3d60db84-1c7b-42d2-9b2a-67ac7faae66d",
   "metadata": {},
   "outputs": [],
   "source": [
    "def init_frame(ax: Axes):\n",
    "    '''\n",
    "    Create an empty figure with containers for everything that will go in it.\n",
    "\n",
    "    Returns\n",
    "    -------\n",
    "    A list of the containers\n",
    "    ''''\n",
    "    "
   ]
  }
 ],
 "metadata": {
  "kernelspec": {
   "display_name": "Python 3 (ipykernel)",
   "language": "python",
   "name": "python3"
  },
  "language_info": {
   "codemirror_mode": {
    "name": "ipython",
    "version": 3
   },
   "file_extension": ".py",
   "mimetype": "text/x-python",
   "name": "python",
   "nbconvert_exporter": "python",
   "pygments_lexer": "ipython3",
   "version": "3.11.6"
  }
 },
 "nbformat": 4,
 "nbformat_minor": 5
}
