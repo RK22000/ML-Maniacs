{
 "cells": [
  {
   "cell_type": "markdown",
   "id": "7d918602-8a5a-4d6b-9614-03150f3332b4",
   "metadata": {},
   "source": [
    "# Instance visualizer\n",
    "In this notebook I'm going to eplore different ways I can visualize an instant. I'll use this to create a video visualization of continous instances one after the other"
   ]
  },
  {
   "cell_type": "markdown",
   "id": "2f342c6d-8b64-4582-89af-771d078984ea",
   "metadata": {},
   "source": [
    "#### Some Code (ignoreable)"
   ]
  },
  {
   "cell_type": "code",
   "execution_count": 1,
   "id": "87ab361d-11d1-4aeb-bfc8-f36f0a0a9a56",
   "metadata": {
    "scrolled": true
   },
   "outputs": [],
   "source": [
    "%matplotlib qt\n",
    "# %matplotlib widget"
   ]
  },
  {
   "cell_type": "code",
   "execution_count": 2,
   "id": "02d25f5c-51e6-48db-8ee0-70a0840ab541",
   "metadata": {},
   "outputs": [],
   "source": [
    "import dataloader\n",
    "import pandas as pd\n",
    "import os\n",
    "import numpy as np\n",
    "sid = '08db4255286f'"
   ]
  },
  {
   "cell_type": "code",
   "execution_count": 3,
   "id": "6c2a4639-5ef9-465f-a0b8-953dfffad7b3",
   "metadata": {},
   "outputs": [
    {
     "name": "stdout",
     "output_type": "stream",
     "text": [
      "loaded dataframe in  2.525 seconds\n"
     ]
    }
   ],
   "source": [
    "import importlib\n",
    "importlib.reload(dataloader)\n",
    "acc_data = dataloader.acc_data_for_child(sid, True)"
   ]
  },
  {
   "cell_type": "code",
   "execution_count": 4,
   "id": "5c63a7db-4c30-4eb8-9521-b562b28eeeac",
   "metadata": {},
   "outputs": [
    {
     "data": {
      "text/html": [
       "<div>\n",
       "<style scoped>\n",
       "    .dataframe tbody tr th:only-of-type {\n",
       "        vertical-align: middle;\n",
       "    }\n",
       "\n",
       "    .dataframe tbody tr th {\n",
       "        vertical-align: top;\n",
       "    }\n",
       "\n",
       "    .dataframe thead th {\n",
       "        text-align: right;\n",
       "    }\n",
       "</style>\n",
       "<table border=\"1\" class=\"dataframe\">\n",
       "  <thead>\n",
       "    <tr style=\"text-align: right;\">\n",
       "      <th></th>\n",
       "      <th>series_id</th>\n",
       "      <th>step</th>\n",
       "      <th>timestamp</th>\n",
       "      <th>anglez</th>\n",
       "      <th>enmo</th>\n",
       "    </tr>\n",
       "  </thead>\n",
       "  <tbody>\n",
       "    <tr>\n",
       "      <th>0</th>\n",
       "      <td>08db4255286f</td>\n",
       "      <td>0</td>\n",
       "      <td>2018-11-05 14:00:00+00:00</td>\n",
       "      <td>-30.845301</td>\n",
       "      <td>0.0447</td>\n",
       "    </tr>\n",
       "    <tr>\n",
       "      <th>1</th>\n",
       "      <td>08db4255286f</td>\n",
       "      <td>1</td>\n",
       "      <td>2018-11-05 14:00:05+00:00</td>\n",
       "      <td>-34.181801</td>\n",
       "      <td>0.0443</td>\n",
       "    </tr>\n",
       "    <tr>\n",
       "      <th>2</th>\n",
       "      <td>08db4255286f</td>\n",
       "      <td>2</td>\n",
       "      <td>2018-11-05 14:00:10+00:00</td>\n",
       "      <td>-33.877102</td>\n",
       "      <td>0.0483</td>\n",
       "    </tr>\n",
       "    <tr>\n",
       "      <th>3</th>\n",
       "      <td>08db4255286f</td>\n",
       "      <td>3</td>\n",
       "      <td>2018-11-05 14:00:15+00:00</td>\n",
       "      <td>-34.282101</td>\n",
       "      <td>0.0680</td>\n",
       "    </tr>\n",
       "    <tr>\n",
       "      <th>4</th>\n",
       "      <td>08db4255286f</td>\n",
       "      <td>4</td>\n",
       "      <td>2018-11-05 14:00:20+00:00</td>\n",
       "      <td>-34.385799</td>\n",
       "      <td>0.0768</td>\n",
       "    </tr>\n",
       "  </tbody>\n",
       "</table>\n",
       "</div>"
      ],
      "text/plain": [
       "      series_id  step                 timestamp     anglez    enmo\n",
       "0  08db4255286f     0 2018-11-05 14:00:00+00:00 -30.845301  0.0447\n",
       "1  08db4255286f     1 2018-11-05 14:00:05+00:00 -34.181801  0.0443\n",
       "2  08db4255286f     2 2018-11-05 14:00:10+00:00 -33.877102  0.0483\n",
       "3  08db4255286f     3 2018-11-05 14:00:15+00:00 -34.282101  0.0680\n",
       "4  08db4255286f     4 2018-11-05 14:00:20+00:00 -34.385799  0.0768"
      ]
     },
     "execution_count": 4,
     "metadata": {},
     "output_type": "execute_result"
    }
   ],
   "source": [
    "acc_data.head()"
   ]
  },
  {
   "cell_type": "code",
   "execution_count": 5,
   "id": "e7bff50a-88e6-4841-913b-c1465fbbb321",
   "metadata": {},
   "outputs": [
    {
     "data": {
      "text/html": [
       "<div>\n",
       "<style scoped>\n",
       "    .dataframe tbody tr th:only-of-type {\n",
       "        vertical-align: middle;\n",
       "    }\n",
       "\n",
       "    .dataframe tbody tr th {\n",
       "        vertical-align: top;\n",
       "    }\n",
       "\n",
       "    .dataframe thead th {\n",
       "        text-align: right;\n",
       "    }\n",
       "</style>\n",
       "<table border=\"1\" class=\"dataframe\">\n",
       "  <thead>\n",
       "    <tr style=\"text-align: right;\">\n",
       "      <th></th>\n",
       "      <th>series_id</th>\n",
       "      <th>night</th>\n",
       "      <th>event</th>\n",
       "      <th>step</th>\n",
       "      <th>timestamp</th>\n",
       "    </tr>\n",
       "  </thead>\n",
       "  <tbody>\n",
       "    <tr>\n",
       "      <th>398</th>\n",
       "      <td>08db4255286f</td>\n",
       "      <td>1</td>\n",
       "      <td>onset</td>\n",
       "      <td>11988.0</td>\n",
       "      <td>2018-11-06T02:39:00-0400</td>\n",
       "    </tr>\n",
       "    <tr>\n",
       "      <th>399</th>\n",
       "      <td>08db4255286f</td>\n",
       "      <td>1</td>\n",
       "      <td>wakeup</td>\n",
       "      <td>14388.0</td>\n",
       "      <td>2018-11-06T05:59:00-0400</td>\n",
       "    </tr>\n",
       "    <tr>\n",
       "      <th>400</th>\n",
       "      <td>08db4255286f</td>\n",
       "      <td>2</td>\n",
       "      <td>onset</td>\n",
       "      <td>28680.0</td>\n",
       "      <td>2018-11-07T01:50:00-0400</td>\n",
       "    </tr>\n",
       "    <tr>\n",
       "      <th>401</th>\n",
       "      <td>08db4255286f</td>\n",
       "      <td>2</td>\n",
       "      <td>wakeup</td>\n",
       "      <td>31320.0</td>\n",
       "      <td>2018-11-07T05:30:00-0400</td>\n",
       "    </tr>\n",
       "    <tr>\n",
       "      <th>402</th>\n",
       "      <td>08db4255286f</td>\n",
       "      <td>3</td>\n",
       "      <td>onset</td>\n",
       "      <td>44184.0</td>\n",
       "      <td>2018-11-07T23:22:00-0400</td>\n",
       "    </tr>\n",
       "  </tbody>\n",
       "</table>\n",
       "</div>"
      ],
      "text/plain": [
       "        series_id  night   event     step                 timestamp\n",
       "398  08db4255286f      1   onset  11988.0  2018-11-06T02:39:00-0400\n",
       "399  08db4255286f      1  wakeup  14388.0  2018-11-06T05:59:00-0400\n",
       "400  08db4255286f      2   onset  28680.0  2018-11-07T01:50:00-0400\n",
       "401  08db4255286f      2  wakeup  31320.0  2018-11-07T05:30:00-0400\n",
       "402  08db4255286f      3   onset  44184.0  2018-11-07T23:22:00-0400"
      ]
     },
     "execution_count": 5,
     "metadata": {},
     "output_type": "execute_result"
    }
   ],
   "source": [
    "events = pd.read_csv(os.path.join('data', 'train_events.csv'))\n",
    "# events['timestamp'] = pd.to_datetime(events['timestamp'], utc=True)\n",
    "events[events['series_id']==sid].head()"
   ]
  },
  {
   "cell_type": "code",
   "execution_count": 6,
   "id": "832ae078-f4ad-43cf-9596-bb971bbddfa5",
   "metadata": {},
   "outputs": [],
   "source": [
    "dataloader.annotate_sid(acc_data, events, sid)"
   ]
  },
  {
   "cell_type": "code",
   "execution_count": 7,
   "id": "8864b4fc-20c6-48d5-91a0-a9dd33ae8f4a",
   "metadata": {},
   "outputs": [
    {
     "data": {
      "text/html": [
       "<div>\n",
       "<style scoped>\n",
       "    .dataframe tbody tr th:only-of-type {\n",
       "        vertical-align: middle;\n",
       "    }\n",
       "\n",
       "    .dataframe tbody tr th {\n",
       "        vertical-align: top;\n",
       "    }\n",
       "\n",
       "    .dataframe thead th {\n",
       "        text-align: right;\n",
       "    }\n",
       "</style>\n",
       "<table border=\"1\" class=\"dataframe\">\n",
       "  <thead>\n",
       "    <tr style=\"text-align: right;\">\n",
       "      <th></th>\n",
       "      <th>series_id</th>\n",
       "      <th>step</th>\n",
       "      <th>timestamp</th>\n",
       "      <th>anglez</th>\n",
       "      <th>enmo</th>\n",
       "      <th>activity</th>\n",
       "    </tr>\n",
       "  </thead>\n",
       "  <tbody>\n",
       "    <tr>\n",
       "      <th>343398</th>\n",
       "      <td>08db4255286f</td>\n",
       "      <td>343398</td>\n",
       "      <td>2018-11-25 10:56:30+00:00</td>\n",
       "      <td>-30.255400</td>\n",
       "      <td>0.0012</td>\n",
       "      <td>Waking</td>\n",
       "    </tr>\n",
       "    <tr>\n",
       "      <th>161687</th>\n",
       "      <td>08db4255286f</td>\n",
       "      <td>161687</td>\n",
       "      <td>2018-11-14 22:33:55+00:00</td>\n",
       "      <td>24.207701</td>\n",
       "      <td>0.0069</td>\n",
       "      <td>Waking</td>\n",
       "    </tr>\n",
       "    <tr>\n",
       "      <th>159698</th>\n",
       "      <td>08db4255286f</td>\n",
       "      <td>159698</td>\n",
       "      <td>2018-11-14 19:48:10+00:00</td>\n",
       "      <td>-52.489799</td>\n",
       "      <td>0.1019</td>\n",
       "      <td>Waking</td>\n",
       "    </tr>\n",
       "    <tr>\n",
       "      <th>47996</th>\n",
       "      <td>08db4255286f</td>\n",
       "      <td>47996</td>\n",
       "      <td>2018-11-08 08:39:40+00:00</td>\n",
       "      <td>-78.212402</td>\n",
       "      <td>0.0005</td>\n",
       "      <td>Sleeping</td>\n",
       "    </tr>\n",
       "    <tr>\n",
       "      <th>201729</th>\n",
       "      <td>08db4255286f</td>\n",
       "      <td>201729</td>\n",
       "      <td>2018-11-17 06:10:45+00:00</td>\n",
       "      <td>-75.267303</td>\n",
       "      <td>0.0089</td>\n",
       "      <td>Waking</td>\n",
       "    </tr>\n",
       "    <tr>\n",
       "      <th>334941</th>\n",
       "      <td>08db4255286f</td>\n",
       "      <td>334941</td>\n",
       "      <td>2018-11-24 23:11:45+00:00</td>\n",
       "      <td>-63.130501</td>\n",
       "      <td>0.0108</td>\n",
       "      <td>Waking</td>\n",
       "    </tr>\n",
       "    <tr>\n",
       "      <th>117867</th>\n",
       "      <td>08db4255286f</td>\n",
       "      <td>117867</td>\n",
       "      <td>2018-11-12 09:42:15+00:00</td>\n",
       "      <td>-37.117901</td>\n",
       "      <td>0.0000</td>\n",
       "      <td>Sleeping</td>\n",
       "    </tr>\n",
       "    <tr>\n",
       "      <th>181911</th>\n",
       "      <td>08db4255286f</td>\n",
       "      <td>181911</td>\n",
       "      <td>2018-11-16 02:39:15+00:00</td>\n",
       "      <td>-43.793999</td>\n",
       "      <td>0.0018</td>\n",
       "      <td>Sleeping</td>\n",
       "    </tr>\n",
       "    <tr>\n",
       "      <th>207318</th>\n",
       "      <td>08db4255286f</td>\n",
       "      <td>207318</td>\n",
       "      <td>2018-11-17 13:56:30+00:00</td>\n",
       "      <td>-15.325700</td>\n",
       "      <td>0.0240</td>\n",
       "      <td>Waking</td>\n",
       "    </tr>\n",
       "    <tr>\n",
       "      <th>393330</th>\n",
       "      <td>08db4255286f</td>\n",
       "      <td>393330</td>\n",
       "      <td>2018-11-28 08:17:30+00:00</td>\n",
       "      <td>-27.892599</td>\n",
       "      <td>0.0132</td>\n",
       "      <td>Sleeping</td>\n",
       "    </tr>\n",
       "  </tbody>\n",
       "</table>\n",
       "</div>"
      ],
      "text/plain": [
       "           series_id    step                 timestamp     anglez    enmo  \\\n",
       "343398  08db4255286f  343398 2018-11-25 10:56:30+00:00 -30.255400  0.0012   \n",
       "161687  08db4255286f  161687 2018-11-14 22:33:55+00:00  24.207701  0.0069   \n",
       "159698  08db4255286f  159698 2018-11-14 19:48:10+00:00 -52.489799  0.1019   \n",
       "47996   08db4255286f   47996 2018-11-08 08:39:40+00:00 -78.212402  0.0005   \n",
       "201729  08db4255286f  201729 2018-11-17 06:10:45+00:00 -75.267303  0.0089   \n",
       "334941  08db4255286f  334941 2018-11-24 23:11:45+00:00 -63.130501  0.0108   \n",
       "117867  08db4255286f  117867 2018-11-12 09:42:15+00:00 -37.117901  0.0000   \n",
       "181911  08db4255286f  181911 2018-11-16 02:39:15+00:00 -43.793999  0.0018   \n",
       "207318  08db4255286f  207318 2018-11-17 13:56:30+00:00 -15.325700  0.0240   \n",
       "393330  08db4255286f  393330 2018-11-28 08:17:30+00:00 -27.892599  0.0132   \n",
       "\n",
       "        activity  \n",
       "343398    Waking  \n",
       "161687    Waking  \n",
       "159698    Waking  \n",
       "47996   Sleeping  \n",
       "201729    Waking  \n",
       "334941    Waking  \n",
       "117867  Sleeping  \n",
       "181911  Sleeping  \n",
       "207318    Waking  \n",
       "393330  Sleeping  "
      ]
     },
     "execution_count": 7,
     "metadata": {},
     "output_type": "execute_result"
    }
   ],
   "source": [
    "acc_data.sample(10)"
   ]
  },
  {
   "cell_type": "markdown",
   "id": "553a3a88-77b9-482b-a4a3-bb07584ebe2a",
   "metadata": {},
   "source": [
    "##### 20 minutes before and after a timestamp"
   ]
  },
  {
   "cell_type": "code",
   "execution_count": null,
   "id": "0415f6c3-e143-4c91-8018-ec6089cc8487",
   "metadata": {},
   "outputs": [],
   "source": [
    "ts = pd.Timestamp('2018-11-07 05:50:00+00:00')\n",
    "ts"
   ]
  },
  {
   "cell_type": "code",
   "execution_count": null,
   "id": "214a5730-4296-416f-91e4-dd7db5ddb690",
   "metadata": {},
   "outputs": [],
   "source": [
    "delta = pd.Timedelta(20, 'min')"
   ]
  },
  {
   "cell_type": "code",
   "execution_count": null,
   "id": "59ad37a3-db76-44ef-b54c-503944faa941",
   "metadata": {},
   "outputs": [],
   "source": [
    "(ts - delta, ts + delta)"
   ]
  },
  {
   "cell_type": "code",
   "execution_count": null,
   "id": "d82f0587-68b4-4c59-9d78-aee3383f8fc8",
   "metadata": {
    "scrolled": true
   },
   "outputs": [],
   "source": [
    "idx = (acc_data['timestamp'] >= (ts-delta)) & (acc_data['timestamp'] < (ts+delta))\n",
    "idx"
   ]
  },
  {
   "cell_type": "code",
   "execution_count": null,
   "id": "d44e446d-f810-4357-bad3-c403d4a4e7ed",
   "metadata": {},
   "outputs": [],
   "source": [
    "dat = acc_data.loc[idx]"
   ]
  },
  {
   "cell_type": "code",
   "execution_count": null,
   "id": "8ba8827f-8167-48c8-b195-31be088a81bc",
   "metadata": {},
   "outputs": [],
   "source": [
    "dat"
   ]
  },
  {
   "cell_type": "markdown",
   "id": "eede8e78-6679-4ee2-ba27-35545136e3cd",
   "metadata": {},
   "source": [
    "## Visual Frame\n",
    "\n",
    "To visualize the data at a fixed timestamp I'm taking all the data 20 minutes before and after that timestamp, then plotting their `anglez` and `enmo`. Each point is also given a color based on how many steps it is before or ahead of the timestamp. Finally I added a jitter to the cordinates to reveal points that are hidden one behind the other.\n",
    "\n",
    "Run the next cell to see an example of a frame where the child transitioned from waking to sleeping"
   ]
  },
  {
   "cell_type": "code",
   "execution_count": 9,
   "id": "516cdf5a-757d-4286-8902-fa9842de5238",
   "metadata": {},
   "outputs": [
    {
     "data": {
      "text/plain": [
       "<matplotlib.collections.PathCollection at 0x1c74973e290>"
      ]
     },
     "execution_count": 9,
     "metadata": {},
     "output_type": "execute_result"
    }
   ],
   "source": [
    "import matplotlib.pyplot as plt\n",
    "from matplotlib.axes import Axes\n",
    "import matplotlib.animation as anim\n",
    "fig, ax = plt.subplots()\n",
    "ax.scatter([1,2,3], [5,6,7])"
   ]
  },
  {
   "cell_type": "code",
   "execution_count": null,
   "id": "eb4bf07c-0eaf-44c8-aa52-77fe21a1284d",
   "metadata": {},
   "outputs": [],
   "source": [
    "# %matplotlib inline # To show a static image in the notebook\n",
    "# %matplotlib notebook # To show the interactive video using matplotlib backend\n",
    "import matplotlib.pyplot as plt\n",
    "from matplotlib.axes import Axes\n",
    "import matplotlib.animation as anim\n",
    "fig, ax = plt.subplots()\n",
    "ax: Axes = ax\n",
    "ax.set_xlabel('anglez')\n",
    "ax.set_ylabel('enmo')\n",
    "ax.set_title(f'20 minutes around {ts} for {sid}')\n",
    "x = dat['anglez']\n",
    "y = dat['enmo']\n",
    "dat_len = len(dat)\n",
    "mid = dat['step'].iat[int(dat_len/2)]\n",
    "c = [i - mid for i in dat['step']]\n",
    "coll = ax.scatter(x,y, c=c, cmap='plasma', marker='o')\n",
    "plt.colorbar(coll, ax=ax)\n",
    "txt = ax.text(-10,0.15,'Some Text')\n",
    "x_jit = (np.random.random_sample((dat_len,))-0.5)*x.std()\n",
    "y_jit = (np.random.random_sample((dat_len,))-0.5)*y.std()\n",
    "jit = [i/100.0 for i in range(30)]\n",
    "# print(jit)\n",
    "def animate(frame):\n",
    "    j = jit[frame]\n",
    "    coll.set(offsets=[i for i in zip(x+x_jit*j, y+y_jit*j)])\n",
    "    txt.set_text(f'Jitter factor = {j}')\n",
    "    return [coll, txt]\n",
    "fig.tight_layout()\n",
    "ani = anim.FuncAnimation(func=animate, fig=fig, frames=len(jit), blit=True)\n",
    "plt.show()"
   ]
  },
  {
   "cell_type": "code",
   "execution_count": 8,
   "id": "3d60db84-1c7b-42d2-9b2a-67ac7faae66d",
   "metadata": {},
   "outputs": [],
   "source": [
    "import matplotlib.pyplot as plt\n",
    "from matplotlib.axes import Axes\n",
    "import matplotlib.animation as anim\n",
    "from matplotlib.collections import PathCollection\n",
    "def init_frame(ax: Axes, data: pd.DataFrame):\n",
    "    '''\n",
    "    Create an empty figure with containers for everything that will go in it.\n",
    "\n",
    "    Returns\n",
    "    -------\n",
    "    A list of the artists\n",
    "    '''\n",
    "    points = ax.scatter(x=[], y=[], c=[], cmap='plasma')\n",
    "    ax.set_xlabel('anglez')\n",
    "    ax.set_ylabel('enmo')\n",
    "    xmin = data['anglez'].min()\n",
    "    xmax = data['anglez'].max()\n",
    "    buff = (xmax-xmin)*0.1\n",
    "    ax.set_xlim(xmin-buff, xmax+buff)\n",
    "    ymin = data['enmo'].min()\n",
    "    ymax = data['enmo'].max()\n",
    "    buff = (ymax-ymin)*0.1\n",
    "    ax.set_ylim(ymin-buff, ymax+buff)\n",
    "    activity_text = ax.text((xmax+xmin)/2, ymax-data['enmo'].std(), \"SOME TEXT\", ha='center', weight='bold', va='bottom')\n",
    "    return [points, activity_text]\n",
    "\n",
    "def draw_frame(ts: pd.Timestamp, data: pd.DataFrame, window: pd.Timedelta, x_jit_scale: int, y_jit_scale: int, points: PathCollection, activity_text: plt.Text):\n",
    "    artists = []\n",
    "    if type(ts) is not pd.Timestamp:\n",
    "        ts = pd.Timestamp(ts)\n",
    "    idx = (data['timestamp'] >= ts-window) & (data['timestamp'] < ts+window)\n",
    "    data = data.loc[idx, ['step', 'anglez', 'enmo', 'activity']]\n",
    "    # Set X, Y points\n",
    "    x = data['anglez']\n",
    "    y = data['enmo']\n",
    "    dat_len = len(data)\n",
    "    mid = data['step'].iat[int(dat_len/2)]\n",
    "    c = [i - mid for i in data['step']]\n",
    "    x_jit = (np.random.random_sample(x.shape)-0.5)*x_jit_scale\n",
    "    y_jit = (np.random.random_sample(y.shape)-0.5)*y_jit_scale\n",
    "    jit = 0.3\n",
    "    points.set(offsets=list(zip(x+x_jit*jit,y+y_jit*jit)), array=c)\n",
    "    artists.append(points)\n",
    "    # Set the text box\n",
    "    txt = f\"{ts}\\n{data['activity'].iat[0]} => {data['activity'].iat[-1]}\"\n",
    "    activity_text.set_text(txt)\n",
    "    artists.append(activity_text)\n",
    "    # if txt != activity_text.get_text():\n",
    "        # activity_text.set_text(txt)\n",
    "    #     artists.append(activity_text)\n",
    "    return artists"
   ]
  },
  {
   "cell_type": "code",
   "execution_count": 9,
   "id": "97e8a1e1-11fb-4013-ab9e-559fcb3ae526",
   "metadata": {},
   "outputs": [
    {
     "data": {
      "application/vnd.jupyter.widget-view+json": {
       "model_id": "19cf230f566a49cba40b6dee82938148",
       "version_major": 2,
       "version_minor": 0
      },
      "text/plain": [
       "  0%|          | 0/7338 [00:00<?, ?it/s]"
      ]
     },
     "metadata": {},
     "output_type": "display_data"
    }
   ],
   "source": [
    "from tqdm.notebook import tqdm\n",
    "\n",
    "fig, ax = plt.subplots()\n",
    "artists = init_frame(ax, acc_data)\n",
    "ani = anim.FuncAnimation(\n",
    "    fig=fig, \n",
    "    func=draw_frame, \n",
    "    frames=tqdm(acc_data['timestamp'][::60]), \n",
    "    fargs=(acc_data, pd.Timedelta(20, 'min'), acc_data['anglez'].std(), 2*acc_data['enmo'].std(), *artists),\n",
    "    blit=True,\n",
    "    interval=100\n",
    ")\n",
    "# plt.show()"
   ]
  },
  {
   "cell_type": "code",
   "execution_count": null,
   "id": "632b48c7-0afd-408a-8ed5-2216dfc2c66b",
   "metadata": {},
   "outputs": [],
   "source": [
    "ani.save?"
   ]
  },
  {
   "cell_type": "code",
   "execution_count": null,
   "id": "ee8e2d26-4bef-4f32-9c5b-d571ff49561a",
   "metadata": {},
   "outputs": [],
   "source": [
    "ani.save(os.path.join('vids', 'activity3.mp4'))"
   ]
  }
 ],
 "metadata": {
  "kernelspec": {
   "display_name": "Python 3 (ipykernel)",
   "language": "python",
   "name": "python3"
  },
  "language_info": {
   "codemirror_mode": {
    "name": "ipython",
    "version": 3
   },
   "file_extension": ".py",
   "mimetype": "text/x-python",
   "name": "python",
   "nbconvert_exporter": "python",
   "pygments_lexer": "ipython3",
   "version": "3.11.6"
  }
 },
 "nbformat": 4,
 "nbformat_minor": 5
}
