{
 "cells": [
  {
   "cell_type": "code",
   "execution_count": 1,
   "metadata": {},
   "outputs": [],
   "source": [
    "%matplotlib qt\n",
    "import dataloader\n",
    "import pandas as pd\n",
    "import os\n",
    "import numpy as np\n",
    "sid = '08db4255286f'"
   ]
  },
  {
   "cell_type": "code",
   "execution_count": null,
   "metadata": {},
   "outputs": [],
   "source": [
    "acc_data = dataloader.acc_data_for_child(sid)\n",
    "events = pd.read_csv('data/train_events.csv')\n",
    "dataloader.annotate_sid(acc_data, events, sid)"
   ]
  },
  {
   "cell_type": "code",
   "execution_count": 8,
   "metadata": {},
   "outputs": [
    {
     "data": {
      "text/html": [
       "<div>\n",
       "<style scoped>\n",
       "    .dataframe tbody tr th:only-of-type {\n",
       "        vertical-align: middle;\n",
       "    }\n",
       "\n",
       "    .dataframe tbody tr th {\n",
       "        vertical-align: top;\n",
       "    }\n",
       "\n",
       "    .dataframe thead th {\n",
       "        text-align: right;\n",
       "    }\n",
       "</style>\n",
       "<table border=\"1\" class=\"dataframe\">\n",
       "  <thead>\n",
       "    <tr style=\"text-align: right;\">\n",
       "      <th></th>\n",
       "      <th>series_id</th>\n",
       "      <th>step</th>\n",
       "      <th>timestamp</th>\n",
       "      <th>anglez</th>\n",
       "      <th>enmo</th>\n",
       "      <th>activity</th>\n",
       "    </tr>\n",
       "  </thead>\n",
       "  <tbody>\n",
       "    <tr>\n",
       "      <th>207178</th>\n",
       "      <td>08db4255286f</td>\n",
       "      <td>207178</td>\n",
       "      <td>2018-11-17 13:44:50+00:00</td>\n",
       "      <td>-24.3344</td>\n",
       "      <td>0.0093</td>\n",
       "      <td>Waking</td>\n",
       "    </tr>\n",
       "    <tr>\n",
       "      <th>45394</th>\n",
       "      <td>08db4255286f</td>\n",
       "      <td>45394</td>\n",
       "      <td>2018-11-08 05:02:50+00:00</td>\n",
       "      <td>-9.5801</td>\n",
       "      <td>0.0074</td>\n",
       "      <td>Sleeping</td>\n",
       "    </tr>\n",
       "    <tr>\n",
       "      <th>390108</th>\n",
       "      <td>08db4255286f</td>\n",
       "      <td>390108</td>\n",
       "      <td>2018-11-28 03:49:00+00:00</td>\n",
       "      <td>-22.3652</td>\n",
       "      <td>0.0443</td>\n",
       "      <td>Waking</td>\n",
       "    </tr>\n",
       "    <tr>\n",
       "      <th>329363</th>\n",
       "      <td>08db4255286f</td>\n",
       "      <td>329363</td>\n",
       "      <td>2018-11-24 15:26:55+00:00</td>\n",
       "      <td>-30.3950</td>\n",
       "      <td>0.0003</td>\n",
       "      <td>Sleeping</td>\n",
       "    </tr>\n",
       "    <tr>\n",
       "      <th>176233</th>\n",
       "      <td>08db4255286f</td>\n",
       "      <td>176233</td>\n",
       "      <td>2018-11-15 18:46:05+00:00</td>\n",
       "      <td>-11.8406</td>\n",
       "      <td>0.0099</td>\n",
       "      <td>Waking</td>\n",
       "    </tr>\n",
       "  </tbody>\n",
       "</table>\n",
       "</div>"
      ],
      "text/plain": [
       "           series_id    step                 timestamp   anglez    enmo  \\\n",
       "207178  08db4255286f  207178 2018-11-17 13:44:50+00:00 -24.3344  0.0093   \n",
       "45394   08db4255286f   45394 2018-11-08 05:02:50+00:00  -9.5801  0.0074   \n",
       "390108  08db4255286f  390108 2018-11-28 03:49:00+00:00 -22.3652  0.0443   \n",
       "329363  08db4255286f  329363 2018-11-24 15:26:55+00:00 -30.3950  0.0003   \n",
       "176233  08db4255286f  176233 2018-11-15 18:46:05+00:00 -11.8406  0.0099   \n",
       "\n",
       "        activity  \n",
       "207178    Waking  \n",
       "45394   Sleeping  \n",
       "390108    Waking  \n",
       "329363  Sleeping  \n",
       "176233    Waking  "
      ]
     },
     "execution_count": 8,
     "metadata": {},
     "output_type": "execute_result"
    }
   ],
   "source": [
    "acc_data.sample(5)"
   ]
  },
  {
   "cell_type": "code",
   "execution_count": 26,
   "metadata": {},
   "outputs": [],
   "source": [
    "def filter_data(acc_data:pd.DataFrame, tss: list[pd.Timestamp], window: pd.Timedelta):\n",
    "    net = sum([(acc_data['timestamp'] >= ts-window) & (acc_data['timestamp'] < ts+window) for ts in tss])\n",
    "    net = net==True\n",
    "    return acc_data.loc[net]"
   ]
  },
  {
   "cell_type": "code",
   "execution_count": 28,
   "metadata": {},
   "outputs": [],
   "source": [
    "filt_acc = filter_data(\n",
    "    acc_data=acc_data,\n",
    "    tss=pd.to_datetime(events.loc[events['series_id']==sid, 'timestamp'], utc=True),\n",
    "    window=pd.Timedelta(1, 'hour')\n",
    ")"
   ]
  },
  {
   "cell_type": "code",
   "execution_count": 65,
   "metadata": {},
   "outputs": [
    {
     "name": "stdout",
     "output_type": "stream",
     "text": [
      "[Text(0, -3.0, '−3.0'), Text(0, -2.5, '−2.5'), Text(0, -2.0, '−2.0'), Text(0, -1.5, '−1.5'), Text(0, -1.0, '−1.0'), Text(0, -0.5, '−0.5'), Text(0, 0.0, '0.0'), Text(0, 0.5, '0.5'), Text(0, 1.0, '1.0')]\n"
     ]
    },
    {
     "data": {
      "application/vnd.jupyter.widget-view+json": {
       "model_id": "304c58d6b20c485e85105c3afc91b3bf",
       "version_major": 2,
       "version_minor": 0
      },
      "text/plain": [
       "  0%|          | 0/2400 [00:00<?, ?it/s]"
      ]
     },
     "metadata": {},
     "output_type": "display_data"
    }
   ],
   "source": [
    "import matplotlib.pyplot as plt\n",
    "import matplotlib.animation as anim\n",
    "from tqdm.notebook import tqdm\n",
    "from visual import Visualizaer1\n",
    "fig, ax = plt.subplots()\n",
    "\n",
    "artists = Visualizaer1.init_frame(ax, filt_acc)\n",
    "print(ax.get_yticklabels())\n",
    "ani = anim.FuncAnimation(\n",
    "    func=Visualizaer1.draw_frame,\n",
    "    fig=fig,\n",
    "    frames=tqdm(filt_acc['timestamp'][::30]),\n",
    "    fargs=(filt_acc, pd.Timedelta(20, 'min'), acc_data['anglez'].std(), 2*acc_data['enmo'].std(), *artists),\n",
    "    blit=True,\n",
    "    interval=100\n",
    "\n",
    ")\n",
    "plt.show()\n",
    "\n"
   ]
  },
  {
   "cell_type": "code",
   "execution_count": 72,
   "metadata": {},
   "outputs": [
    {
     "data": {
      "text/plain": [
       "<module 'visual' from 'd:\\\\Projects\\\\ChildMindSleep\\\\visual.py'>"
      ]
     },
     "execution_count": 72,
     "metadata": {},
     "output_type": "execute_result"
    }
   ],
   "source": [
    "import importlib\n",
    "import visual\n",
    "importlib.reload(visual)"
   ]
  },
  {
   "cell_type": "code",
   "execution_count": 74,
   "metadata": {},
   "outputs": [
    {
     "data": {
      "application/vnd.jupyter.widget-view+json": {
       "model_id": "738a771986154fb09edbae93b7c20bd8",
       "version_major": 2,
       "version_minor": 0
      },
      "text/plain": [
       "  0%|          | 0/2400 [00:00<?, ?it/s]"
      ]
     },
     "metadata": {},
     "output_type": "display_data"
    }
   ],
   "source": [
    "from visual import Visualizer2\n",
    "\n",
    "fig, ax = plt.subplots()\n",
    "time_window = pd.Timedelta(10, 'min')\n",
    "artists = Visualizer2.init_frame(ax, time_window)\n",
    "frames = tqdm(filt_acc['timestamp'][::30])\n",
    "ani = anim.FuncAnimation(\n",
    "    fig=fig,\n",
    "    func=Visualizer2.draw_frame,\n",
    "    frames=frames,\n",
    "    fargs=(filt_acc, 0.3, time_window, artists),\n",
    "    blit=True,\n",
    "    interval=100\n",
    ")\n",
    "# ani.save('vids/filtered_activity.mp4')\n"
   ]
  },
  {
   "cell_type": "code",
   "execution_count": null,
   "metadata": {},
   "outputs": [],
   "source": []
  }
 ],
 "metadata": {
  "kernelspec": {
   "display_name": "base",
   "language": "python",
   "name": "python3"
  },
  "language_info": {
   "codemirror_mode": {
    "name": "ipython",
    "version": 3
   },
   "file_extension": ".py",
   "mimetype": "text/x-python",
   "name": "python",
   "nbconvert_exporter": "python",
   "pygments_lexer": "ipython3",
   "version": "3.11.6"
  }
 },
 "nbformat": 4,
 "nbformat_minor": 2
}
