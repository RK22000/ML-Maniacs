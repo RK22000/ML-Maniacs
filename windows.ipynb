{
 "cells": [
  {
   "cell_type": "code",
   "execution_count": 1,
   "metadata": {},
   "outputs": [],
   "source": [
    "import dataloader\n",
    "import pandas as pd\n",
    "import numpy as np\n",
    "import math\n",
    "import seaborn as sns\n",
    "sid = '08db4255286f'"
   ]
  },
  {
   "cell_type": "code",
   "execution_count": 2,
   "metadata": {},
   "outputs": [],
   "source": [
    "data = dataloader.load_sid(sid)"
   ]
  },
  {
   "cell_type": "code",
   "execution_count": 8,
   "metadata": {},
   "outputs": [
    {
     "data": {
      "text/html": [
       "<div>\n",
       "<style scoped>\n",
       "    .dataframe tbody tr th:only-of-type {\n",
       "        vertical-align: middle;\n",
       "    }\n",
       "\n",
       "    .dataframe tbody tr th {\n",
       "        vertical-align: top;\n",
       "    }\n",
       "\n",
       "    .dataframe thead th {\n",
       "        text-align: right;\n",
       "    }\n",
       "</style>\n",
       "<table border=\"1\" class=\"dataframe\">\n",
       "  <thead>\n",
       "    <tr style=\"text-align: right;\">\n",
       "      <th></th>\n",
       "      <th>series_id</th>\n",
       "      <th>step</th>\n",
       "      <th>timestamp</th>\n",
       "      <th>anglez</th>\n",
       "      <th>enmo</th>\n",
       "      <th>activity</th>\n",
       "    </tr>\n",
       "  </thead>\n",
       "  <tbody>\n",
       "    <tr>\n",
       "      <th>387642</th>\n",
       "      <td>08db4255286f</td>\n",
       "      <td>387642</td>\n",
       "      <td>2018-11-28 00:23:30+00:00</td>\n",
       "      <td>-8.0271</td>\n",
       "      <td>0.1275</td>\n",
       "      <td>Waking</td>\n",
       "    </tr>\n",
       "    <tr>\n",
       "      <th>280684</th>\n",
       "      <td>08db4255286f</td>\n",
       "      <td>280684</td>\n",
       "      <td>2018-11-21 19:50:20+00:00</td>\n",
       "      <td>-31.0313</td>\n",
       "      <td>0.1042</td>\n",
       "      <td>Waking</td>\n",
       "    </tr>\n",
       "    <tr>\n",
       "      <th>104122</th>\n",
       "      <td>08db4255286f</td>\n",
       "      <td>104122</td>\n",
       "      <td>2018-11-11 14:36:50+00:00</td>\n",
       "      <td>-17.7477</td>\n",
       "      <td>0.0086</td>\n",
       "      <td>Waking</td>\n",
       "    </tr>\n",
       "    <tr>\n",
       "      <th>151583</th>\n",
       "      <td>08db4255286f</td>\n",
       "      <td>151583</td>\n",
       "      <td>2018-11-14 08:31:55+00:00</td>\n",
       "      <td>-62.7159</td>\n",
       "      <td>0.0008</td>\n",
       "      <td>Sleeping</td>\n",
       "    </tr>\n",
       "    <tr>\n",
       "      <th>162230</th>\n",
       "      <td>08db4255286f</td>\n",
       "      <td>162230</td>\n",
       "      <td>2018-11-14 23:19:10+00:00</td>\n",
       "      <td>-6.5920</td>\n",
       "      <td>0.0003</td>\n",
       "      <td>Waking</td>\n",
       "    </tr>\n",
       "  </tbody>\n",
       "</table>\n",
       "</div>"
      ],
      "text/plain": [
       "           series_id    step                 timestamp   anglez    enmo  \\\n",
       "387642  08db4255286f  387642 2018-11-28 00:23:30+00:00  -8.0271  0.1275   \n",
       "280684  08db4255286f  280684 2018-11-21 19:50:20+00:00 -31.0313  0.1042   \n",
       "104122  08db4255286f  104122 2018-11-11 14:36:50+00:00 -17.7477  0.0086   \n",
       "151583  08db4255286f  151583 2018-11-14 08:31:55+00:00 -62.7159  0.0008   \n",
       "162230  08db4255286f  162230 2018-11-14 23:19:10+00:00  -6.5920  0.0003   \n",
       "\n",
       "        activity  \n",
       "387642    Waking  \n",
       "280684    Waking  \n",
       "104122    Waking  \n",
       "151583  Sleeping  \n",
       "162230    Waking  "
      ]
     },
     "execution_count": 8,
     "metadata": {},
     "output_type": "execute_result"
    }
   ],
   "source": [
    "data.sample(5)"
   ]
  },
  {
   "cell_type": "code",
   "execution_count": 9,
   "metadata": {},
   "outputs": [
    {
     "name": "stdout",
     "output_type": "stream",
     "text": [
      "Total entries:    440280\n",
      "Waking entries:   315372\n",
      "Sleeping entries: 124908\n"
     ]
    }
   ],
   "source": [
    "print(f'Total entries:    {len(data)}')\n",
    "print(f\"Waking entries:   {len(data.loc[data['activity']=='Waking'])}\")\n",
    "print(f\"Sleeping entries: {len(data.loc[data['activity']=='Sleeping'])}\")"
   ]
  },
  {
   "cell_type": "code",
   "execution_count": 11,
   "metadata": {},
   "outputs": [
    {
     "data": {
      "text/html": [
       "<div>\n",
       "<style scoped>\n",
       "    .dataframe tbody tr th:only-of-type {\n",
       "        vertical-align: middle;\n",
       "    }\n",
       "\n",
       "    .dataframe tbody tr th {\n",
       "        vertical-align: top;\n",
       "    }\n",
       "\n",
       "    .dataframe thead th {\n",
       "        text-align: right;\n",
       "    }\n",
       "</style>\n",
       "<table border=\"1\" class=\"dataframe\">\n",
       "  <thead>\n",
       "    <tr style=\"text-align: right;\">\n",
       "      <th></th>\n",
       "      <th>series_id</th>\n",
       "      <th>step</th>\n",
       "      <th>timestamp</th>\n",
       "      <th>anglez</th>\n",
       "      <th>enmo</th>\n",
       "      <th>activity</th>\n",
       "      <th>hour</th>\n",
       "    </tr>\n",
       "  </thead>\n",
       "  <tbody>\n",
       "    <tr>\n",
       "      <th>200825</th>\n",
       "      <td>08db4255286f</td>\n",
       "      <td>200825</td>\n",
       "      <td>2018-11-17 04:55:25+00:00</td>\n",
       "      <td>-5.674000</td>\n",
       "      <td>0.0625</td>\n",
       "      <td>Waking</td>\n",
       "      <td>4</td>\n",
       "    </tr>\n",
       "    <tr>\n",
       "      <th>130118</th>\n",
       "      <td>08db4255286f</td>\n",
       "      <td>130118</td>\n",
       "      <td>2018-11-13 02:43:10+00:00</td>\n",
       "      <td>-36.428299</td>\n",
       "      <td>0.1723</td>\n",
       "      <td>Sleeping</td>\n",
       "      <td>2</td>\n",
       "    </tr>\n",
       "    <tr>\n",
       "      <th>437121</th>\n",
       "      <td>08db4255286f</td>\n",
       "      <td>437121</td>\n",
       "      <td>2018-11-30 21:06:45+00:00</td>\n",
       "      <td>-17.636999</td>\n",
       "      <td>0.0047</td>\n",
       "      <td>Waking</td>\n",
       "      <td>21</td>\n",
       "    </tr>\n",
       "    <tr>\n",
       "      <th>225671</th>\n",
       "      <td>08db4255286f</td>\n",
       "      <td>225671</td>\n",
       "      <td>2018-11-18 15:25:55+00:00</td>\n",
       "      <td>-2.825900</td>\n",
       "      <td>0.0220</td>\n",
       "      <td>Sleeping</td>\n",
       "      <td>15</td>\n",
       "    </tr>\n",
       "    <tr>\n",
       "      <th>390200</th>\n",
       "      <td>08db4255286f</td>\n",
       "      <td>390200</td>\n",
       "      <td>2018-11-28 03:56:40+00:00</td>\n",
       "      <td>-6.418500</td>\n",
       "      <td>0.1391</td>\n",
       "      <td>Waking</td>\n",
       "      <td>3</td>\n",
       "    </tr>\n",
       "  </tbody>\n",
       "</table>\n",
       "</div>"
      ],
      "text/plain": [
       "           series_id    step                 timestamp     anglez    enmo  \\\n",
       "200825  08db4255286f  200825 2018-11-17 04:55:25+00:00  -5.674000  0.0625   \n",
       "130118  08db4255286f  130118 2018-11-13 02:43:10+00:00 -36.428299  0.1723   \n",
       "437121  08db4255286f  437121 2018-11-30 21:06:45+00:00 -17.636999  0.0047   \n",
       "225671  08db4255286f  225671 2018-11-18 15:25:55+00:00  -2.825900  0.0220   \n",
       "390200  08db4255286f  390200 2018-11-28 03:56:40+00:00  -6.418500  0.1391   \n",
       "\n",
       "        activity  hour  \n",
       "200825    Waking     4  \n",
       "130118  Sleeping     2  \n",
       "437121    Waking    21  \n",
       "225671  Sleeping    15  \n",
       "390200    Waking     3  "
      ]
     },
     "execution_count": 11,
     "metadata": {},
     "output_type": "execute_result"
    }
   ],
   "source": [
    "data['hour'] = [i.hour for i in data['timestamp']]\n",
    "data.sample(5)"
   ]
  },
  {
   "cell_type": "code",
   "execution_count": 75,
   "metadata": {},
   "outputs": [],
   "source": [
    "def windows(data, col, buffer=2):\n",
    "    df2 = dict()\n",
    "    for i in range(-buffer, buffer+1):\n",
    "        df2[f'{i}'] = data[col][max(0,i):len(data)+i]\n",
    "        df2[f'{i}'].index -= i\n",
    "                # series = data[col].iloc[max(0,i):len(data)+i].copy()\n",
    "                # series.index -= i\n",
    "        # df2[f'{i}'].iloc[max(0,i):len(data)+i] = series\n",
    "    df = pd.DataFrame(df2)\n",
    "    return df"
   ]
  },
  {
   "cell_type": "code",
   "execution_count": 80,
   "metadata": {},
   "outputs": [
    {
     "data": {
      "text/html": [
       "<div>\n",
       "<style scoped>\n",
       "    .dataframe tbody tr th:only-of-type {\n",
       "        vertical-align: middle;\n",
       "    }\n",
       "\n",
       "    .dataframe tbody tr th {\n",
       "        vertical-align: top;\n",
       "    }\n",
       "\n",
       "    .dataframe thead th {\n",
       "        text-align: right;\n",
       "    }\n",
       "</style>\n",
       "<table border=\"1\" class=\"dataframe\">\n",
       "  <thead>\n",
       "    <tr style=\"text-align: right;\">\n",
       "      <th></th>\n",
       "      <th>-4</th>\n",
       "      <th>-3</th>\n",
       "      <th>-2</th>\n",
       "      <th>-1</th>\n",
       "      <th>0</th>\n",
       "      <th>1</th>\n",
       "      <th>2</th>\n",
       "      <th>3</th>\n",
       "      <th>4</th>\n",
       "    </tr>\n",
       "  </thead>\n",
       "  <tbody>\n",
       "    <tr>\n",
       "      <th>0</th>\n",
       "      <td>NaN</td>\n",
       "      <td>NaN</td>\n",
       "      <td>NaN</td>\n",
       "      <td>NaN</td>\n",
       "      <td>0.0447</td>\n",
       "      <td>0.0443</td>\n",
       "      <td>0.0483</td>\n",
       "      <td>0.0680</td>\n",
       "      <td>0.0768</td>\n",
       "    </tr>\n",
       "    <tr>\n",
       "      <th>1</th>\n",
       "      <td>NaN</td>\n",
       "      <td>NaN</td>\n",
       "      <td>NaN</td>\n",
       "      <td>0.0447</td>\n",
       "      <td>0.0443</td>\n",
       "      <td>0.0483</td>\n",
       "      <td>0.0680</td>\n",
       "      <td>0.0768</td>\n",
       "      <td>0.0511</td>\n",
       "    </tr>\n",
       "    <tr>\n",
       "      <th>2</th>\n",
       "      <td>NaN</td>\n",
       "      <td>NaN</td>\n",
       "      <td>0.0447</td>\n",
       "      <td>0.0443</td>\n",
       "      <td>0.0483</td>\n",
       "      <td>0.0680</td>\n",
       "      <td>0.0768</td>\n",
       "      <td>0.0511</td>\n",
       "      <td>0.1073</td>\n",
       "    </tr>\n",
       "    <tr>\n",
       "      <th>3</th>\n",
       "      <td>NaN</td>\n",
       "      <td>0.0447</td>\n",
       "      <td>0.0443</td>\n",
       "      <td>0.0483</td>\n",
       "      <td>0.0680</td>\n",
       "      <td>0.0768</td>\n",
       "      <td>0.0511</td>\n",
       "      <td>0.1073</td>\n",
       "      <td>0.0649</td>\n",
       "    </tr>\n",
       "    <tr>\n",
       "      <th>4</th>\n",
       "      <td>0.0447</td>\n",
       "      <td>0.0443</td>\n",
       "      <td>0.0483</td>\n",
       "      <td>0.0680</td>\n",
       "      <td>0.0768</td>\n",
       "      <td>0.0511</td>\n",
       "      <td>0.1073</td>\n",
       "      <td>0.0649</td>\n",
       "      <td>0.0485</td>\n",
       "    </tr>\n",
       "    <tr>\n",
       "      <th>...</th>\n",
       "      <td>...</td>\n",
       "      <td>...</td>\n",
       "      <td>...</td>\n",
       "      <td>...</td>\n",
       "      <td>...</td>\n",
       "      <td>...</td>\n",
       "      <td>...</td>\n",
       "      <td>...</td>\n",
       "      <td>...</td>\n",
       "    </tr>\n",
       "    <tr>\n",
       "      <th>440275</th>\n",
       "      <td>0.0010</td>\n",
       "      <td>0.0041</td>\n",
       "      <td>0.0008</td>\n",
       "      <td>0.0019</td>\n",
       "      <td>0.0024</td>\n",
       "      <td>0.0013</td>\n",
       "      <td>0.0021</td>\n",
       "      <td>0.0127</td>\n",
       "      <td>0.0011</td>\n",
       "    </tr>\n",
       "    <tr>\n",
       "      <th>440276</th>\n",
       "      <td>0.0041</td>\n",
       "      <td>0.0008</td>\n",
       "      <td>0.0019</td>\n",
       "      <td>0.0024</td>\n",
       "      <td>0.0013</td>\n",
       "      <td>0.0021</td>\n",
       "      <td>0.0127</td>\n",
       "      <td>0.0011</td>\n",
       "      <td>NaN</td>\n",
       "    </tr>\n",
       "    <tr>\n",
       "      <th>440277</th>\n",
       "      <td>0.0008</td>\n",
       "      <td>0.0019</td>\n",
       "      <td>0.0024</td>\n",
       "      <td>0.0013</td>\n",
       "      <td>0.0021</td>\n",
       "      <td>0.0127</td>\n",
       "      <td>0.0011</td>\n",
       "      <td>NaN</td>\n",
       "      <td>NaN</td>\n",
       "    </tr>\n",
       "    <tr>\n",
       "      <th>440278</th>\n",
       "      <td>0.0019</td>\n",
       "      <td>0.0024</td>\n",
       "      <td>0.0013</td>\n",
       "      <td>0.0021</td>\n",
       "      <td>0.0127</td>\n",
       "      <td>0.0011</td>\n",
       "      <td>NaN</td>\n",
       "      <td>NaN</td>\n",
       "      <td>NaN</td>\n",
       "    </tr>\n",
       "    <tr>\n",
       "      <th>440279</th>\n",
       "      <td>0.0024</td>\n",
       "      <td>0.0013</td>\n",
       "      <td>0.0021</td>\n",
       "      <td>0.0127</td>\n",
       "      <td>0.0011</td>\n",
       "      <td>NaN</td>\n",
       "      <td>NaN</td>\n",
       "      <td>NaN</td>\n",
       "      <td>NaN</td>\n",
       "    </tr>\n",
       "  </tbody>\n",
       "</table>\n",
       "<p>440280 rows × 9 columns</p>\n",
       "</div>"
      ],
      "text/plain": [
       "            -4      -3      -2      -1       0       1       2       3       4\n",
       "0          NaN     NaN     NaN     NaN  0.0447  0.0443  0.0483  0.0680  0.0768\n",
       "1          NaN     NaN     NaN  0.0447  0.0443  0.0483  0.0680  0.0768  0.0511\n",
       "2          NaN     NaN  0.0447  0.0443  0.0483  0.0680  0.0768  0.0511  0.1073\n",
       "3          NaN  0.0447  0.0443  0.0483  0.0680  0.0768  0.0511  0.1073  0.0649\n",
       "4       0.0447  0.0443  0.0483  0.0680  0.0768  0.0511  0.1073  0.0649  0.0485\n",
       "...        ...     ...     ...     ...     ...     ...     ...     ...     ...\n",
       "440275  0.0010  0.0041  0.0008  0.0019  0.0024  0.0013  0.0021  0.0127  0.0011\n",
       "440276  0.0041  0.0008  0.0019  0.0024  0.0013  0.0021  0.0127  0.0011     NaN\n",
       "440277  0.0008  0.0019  0.0024  0.0013  0.0021  0.0127  0.0011     NaN     NaN\n",
       "440278  0.0019  0.0024  0.0013  0.0021  0.0127  0.0011     NaN     NaN     NaN\n",
       "440279  0.0024  0.0013  0.0021  0.0127  0.0011     NaN     NaN     NaN     NaN\n",
       "\n",
       "[440280 rows x 9 columns]"
      ]
     },
     "execution_count": 80,
     "metadata": {},
     "output_type": "execute_result"
    }
   ],
   "source": [
    "windows(data, 'enmo', 4)"
   ]
  },
  {
   "cell_type": "code",
   "execution_count": 81,
   "metadata": {},
   "outputs": [],
   "source": [
    "# 10min -> 10 * 12steps\n",
    "padding = 120\n",
    "angle_window = windows(data, 'anglez', padding)\n",
    "enmo_window  = windows(data, 'enmo', padding)"
   ]
  },
  {
   "cell_type": "code",
   "execution_count": 84,
   "metadata": {},
   "outputs": [
    {
     "data": {
      "text/plain": [
       "((440280, 241), (440280, 241))"
      ]
     },
     "execution_count": 84,
     "metadata": {},
     "output_type": "execute_result"
    }
   ],
   "source": [
    "angle_window.shape, enmo_window.shape"
   ]
  },
  {
   "cell_type": "code",
   "execution_count": 85,
   "metadata": {},
   "outputs": [
    {
     "data": {
      "text/plain": [
       "(440040, 482)"
      ]
     },
     "execution_count": 85,
     "metadata": {},
     "output_type": "execute_result"
    }
   ],
   "source": [
    "X_data = pd.concat([angle_window, enmo_window], keys=['anglez', 'enmo']).swaplevel().sort_index().dropna()\n",
    "X = X_data.to_numpy().reshape((-1,2*(1+2*padding)))\n",
    "X.shape"
   ]
  },
  {
   "cell_type": "code",
   "execution_count": 87,
   "metadata": {},
   "outputs": [],
   "source": [
    "data['Y'] = (data['activity']=='Sleeping').astype(int)\n",
    "Y_data = data.loc[X_data.index[0][0]:X_data.index[-1][0], 'Y']\n",
    "Y = Y_data.to_numpy()"
   ]
  },
  {
   "cell_type": "code",
   "execution_count": 88,
   "metadata": {},
   "outputs": [
    {
     "data": {
      "text/plain": [
       "(440040, 440040)"
      ]
     },
     "execution_count": 88,
     "metadata": {},
     "output_type": "execute_result"
    }
   ],
   "source": [
    "len(X), len(Y)"
   ]
  },
  {
   "cell_type": "code",
   "execution_count": 89,
   "metadata": {},
   "outputs": [],
   "source": [
    "import tensorflow as tf\n",
    "import keras\n",
    "from keras import layers"
   ]
  },
  {
   "cell_type": "code",
   "execution_count": 90,
   "metadata": {},
   "outputs": [
    {
     "name": "stdout",
     "output_type": "stream",
     "text": [
      "(422760, 2, 241)\n",
      "(422760,)\n",
      "(17280, 2, 241)\n",
      "(17280,)\n"
     ]
    }
   ],
   "source": [
    "from sklearn.utils import shuffle\n",
    "X_pics = X.reshape(-1,2,241)\n",
    "x_train, y_train = shuffle(X_pics[:-17280,:,:], Y[:-17280], random_state=42)\n",
    "x_test, y_test =   X_pics[-17280:,:,:], Y[-17280:]\n",
    "for i in [x_train, y_train, x_test, y_test]:\n",
    "    print(i.shape)"
   ]
  },
  {
   "cell_type": "code",
   "execution_count": 91,
   "metadata": {},
   "outputs": [
    {
     "name": "stdout",
     "output_type": "stream",
     "text": [
      "Model: \"sequential\"\n",
      "_________________________________________________________________\n",
      " Layer (type)                Output Shape              Param #   \n",
      "=================================================================\n",
      " conv2d (Conv2D)             (None, 1, 142, 10)        2010      \n",
      "                                                                 \n",
      " flatten (Flatten)           (None, 1420)              0         \n",
      "                                                                 \n",
      " dense (Dense)               (None, 10)                14210     \n",
      "                                                                 \n",
      " dense_1 (Dense)             (None, 2)                 22        \n",
      "                                                                 \n",
      "=================================================================\n",
      "Total params: 16242 (63.45 KB)\n",
      "Trainable params: 16242 (63.45 KB)\n",
      "Non-trainable params: 0 (0.00 Byte)\n",
      "_________________________________________________________________\n"
     ]
    }
   ],
   "source": [
    "model = keras.Sequential([\n",
    "    layers.Conv2D(10, (2, 100), input_shape=(2,241,1), activation='relu'),\n",
    "    # layers.MaxPool2D(),\n",
    "    layers.Flatten(),\n",
    "    layers.Dense(10, activation='relu'),\n",
    "    layers.Dense(2, activation='softmax'),\n",
    "])\n",
    "model.summary()"
   ]
  },
  {
   "cell_type": "code",
   "execution_count": 92,
   "metadata": {},
   "outputs": [],
   "source": [
    "model.compile(\n",
    "    optimizer='adam',\n",
    "    loss=keras.losses.SparseCategoricalCrossentropy(),\n",
    "    metrics=['accuracy'],\n",
    "    jit_compile=True\n",
    ")"
   ]
  },
  {
   "cell_type": "code",
   "execution_count": 93,
   "metadata": {},
   "outputs": [
    {
     "name": "stdout",
     "output_type": "stream",
     "text": [
      "Epoch 1/10\n",
      "4228/4228 [==============================] - 60s 14ms/step - loss: 0.3586 - accuracy: 0.8503 - val_loss: 0.4197 - val_accuracy: 0.8892\n",
      "Epoch 2/10\n",
      "4228/4228 [==============================] - 54s 13ms/step - loss: 0.3350 - accuracy: 0.8661 - val_loss: 0.4440 - val_accuracy: 0.8604\n",
      "Epoch 3/10\n",
      "4228/4228 [==============================] - 50s 12ms/step - loss: 0.3208 - accuracy: 0.8742 - val_loss: 0.4271 - val_accuracy: 0.8830\n",
      "Epoch 4/10\n",
      "4228/4228 [==============================] - 51s 12ms/step - loss: 0.3126 - accuracy: 0.8764 - val_loss: 0.4733 - val_accuracy: 0.9081\n",
      "Epoch 5/10\n",
      "4228/4228 [==============================] - 51s 12ms/step - loss: 0.3032 - accuracy: 0.8783 - val_loss: 0.5124 - val_accuracy: 0.9007\n",
      "Epoch 6/10\n",
      "4228/4228 [==============================] - 50s 12ms/step - loss: 0.2949 - accuracy: 0.8799 - val_loss: 0.6655 - val_accuracy: 0.8661\n",
      "Epoch 7/10\n",
      "4228/4228 [==============================] - 51s 12ms/step - loss: 0.2886 - accuracy: 0.8800 - val_loss: 0.6256 - val_accuracy: 0.8691\n",
      "Epoch 8/10\n",
      "4228/4228 [==============================] - 53s 12ms/step - loss: 0.2919 - accuracy: 0.8763 - val_loss: 0.6836 - val_accuracy: 0.8909\n",
      "Epoch 9/10\n",
      "4228/4228 [==============================] - 50s 12ms/step - loss: 0.2738 - accuracy: 0.8838 - val_loss: 0.9160 - val_accuracy: 0.8882\n",
      "Epoch 10/10\n",
      "4228/4228 [==============================] - 60s 14ms/step - loss: 0.2682 - accuracy: 0.8851 - val_loss: 0.8711 - val_accuracy: 0.8639\n"
     ]
    }
   ],
   "source": [
    "hist = model.fit(x_train,y_train, validation_data=(x_test, y_test), epochs=10, batch_size=100)"
   ]
  },
  {
   "cell_type": "code",
   "execution_count": 95,
   "metadata": {},
   "outputs": [
    {
     "data": {
      "text/html": [
       "<div>\n",
       "<style scoped>\n",
       "    .dataframe tbody tr th:only-of-type {\n",
       "        vertical-align: middle;\n",
       "    }\n",
       "\n",
       "    .dataframe tbody tr th {\n",
       "        vertical-align: top;\n",
       "    }\n",
       "\n",
       "    .dataframe thead th {\n",
       "        text-align: right;\n",
       "    }\n",
       "</style>\n",
       "<table border=\"1\" class=\"dataframe\">\n",
       "  <thead>\n",
       "    <tr style=\"text-align: right;\">\n",
       "      <th></th>\n",
       "      <th>loss</th>\n",
       "      <th>accuracy</th>\n",
       "      <th>val_loss</th>\n",
       "      <th>val_accuracy</th>\n",
       "    </tr>\n",
       "  </thead>\n",
       "  <tbody>\n",
       "    <tr>\n",
       "      <th>0</th>\n",
       "      <td>0.358632</td>\n",
       "      <td>0.850272</td>\n",
       "      <td>0.419672</td>\n",
       "      <td>0.889236</td>\n",
       "    </tr>\n",
       "    <tr>\n",
       "      <th>1</th>\n",
       "      <td>0.334996</td>\n",
       "      <td>0.866106</td>\n",
       "      <td>0.444049</td>\n",
       "      <td>0.860359</td>\n",
       "    </tr>\n",
       "    <tr>\n",
       "      <th>2</th>\n",
       "      <td>0.320795</td>\n",
       "      <td>0.874158</td>\n",
       "      <td>0.427098</td>\n",
       "      <td>0.883044</td>\n",
       "    </tr>\n",
       "    <tr>\n",
       "      <th>3</th>\n",
       "      <td>0.312600</td>\n",
       "      <td>0.876353</td>\n",
       "      <td>0.473313</td>\n",
       "      <td>0.908102</td>\n",
       "    </tr>\n",
       "    <tr>\n",
       "      <th>4</th>\n",
       "      <td>0.303207</td>\n",
       "      <td>0.878264</td>\n",
       "      <td>0.512420</td>\n",
       "      <td>0.900694</td>\n",
       "    </tr>\n",
       "    <tr>\n",
       "      <th>5</th>\n",
       "      <td>0.294923</td>\n",
       "      <td>0.879863</td>\n",
       "      <td>0.665496</td>\n",
       "      <td>0.866088</td>\n",
       "    </tr>\n",
       "    <tr>\n",
       "      <th>6</th>\n",
       "      <td>0.288625</td>\n",
       "      <td>0.880003</td>\n",
       "      <td>0.625581</td>\n",
       "      <td>0.869097</td>\n",
       "    </tr>\n",
       "    <tr>\n",
       "      <th>7</th>\n",
       "      <td>0.291910</td>\n",
       "      <td>0.876320</td>\n",
       "      <td>0.683628</td>\n",
       "      <td>0.890857</td>\n",
       "    </tr>\n",
       "    <tr>\n",
       "      <th>8</th>\n",
       "      <td>0.273798</td>\n",
       "      <td>0.883832</td>\n",
       "      <td>0.916024</td>\n",
       "      <td>0.888194</td>\n",
       "    </tr>\n",
       "    <tr>\n",
       "      <th>9</th>\n",
       "      <td>0.268214</td>\n",
       "      <td>0.885136</td>\n",
       "      <td>0.871125</td>\n",
       "      <td>0.863947</td>\n",
       "    </tr>\n",
       "  </tbody>\n",
       "</table>\n",
       "</div>"
      ],
      "text/plain": [
       "       loss  accuracy  val_loss  val_accuracy\n",
       "0  0.358632  0.850272  0.419672      0.889236\n",
       "1  0.334996  0.866106  0.444049      0.860359\n",
       "2  0.320795  0.874158  0.427098      0.883044\n",
       "3  0.312600  0.876353  0.473313      0.908102\n",
       "4  0.303207  0.878264  0.512420      0.900694\n",
       "5  0.294923  0.879863  0.665496      0.866088\n",
       "6  0.288625  0.880003  0.625581      0.869097\n",
       "7  0.291910  0.876320  0.683628      0.890857\n",
       "8  0.273798  0.883832  0.916024      0.888194\n",
       "9  0.268214  0.885136  0.871125      0.863947"
      ]
     },
     "execution_count": 95,
     "metadata": {},
     "output_type": "execute_result"
    }
   ],
   "source": [
    "import matplotlib.pyplot as plt\n",
    "import seaborn as sns\n",
    "\n",
    "history = pd.DataFrame(hist.history)\n",
    "history"
   ]
  },
  {
   "cell_type": "code",
   "execution_count": 96,
   "metadata": {},
   "outputs": [
    {
     "data": {
      "text/plain": [
       "(0.0, 1.0)"
      ]
     },
     "execution_count": 96,
     "metadata": {},
     "output_type": "execute_result"
    },
    {
     "data": {
      "image/png": "[encoded data removed]",
      "text/plain": [
       "<Figure size 640x480 with 1 Axes>"
      ]
     },
     "metadata": {},
     "output_type": "display_data"
    }
   ],
   "source": [
    "ax = sns.lineplot(history[['loss', 'val_loss']])\n",
    "ax.set_xlabel(\"Epochs\")\n",
    "ax.set_ylim(0,1)"
   ]
  },
  {
   "cell_type": "code",
   "execution_count": 97,
   "metadata": {},
   "outputs": [
    {
     "data": {
      "text/plain": [
       "(0.0, 1.0)"
      ]
     },
     "execution_count": 97,
     "metadata": {},
     "output_type": "execute_result"
    },
    {
     "data": {
      "image/png": "[encoded data removed]",
      "text/plain": [
       "<Figure size 640x480 with 1 Axes>"
      ]
     },
     "metadata": {},
     "output_type": "display_data"
    }
   ],
   "source": [
    "ax = sns.lineplot(history[['accuracy', 'val_accuracy']])\n",
    "ax.set_xlabel(\"Epochs\")\n",
    "ax.set_ylim(0,1)"
   ]
  },
  {
   "cell_type": "code",
   "execution_count": 98,
   "metadata": {},
   "outputs": [],
   "source": [
    "y_res = model(x_test)"
   ]
  },
  {
   "cell_type": "code",
   "execution_count": 99,
   "metadata": {},
   "outputs": [],
   "source": [
    "def plot_preds(thresh):\n",
    "    plt.gca().clear()\n",
    "    plt.title(f\"Predictions by threshold: {round(thresh,2)}\")\n",
    "    plt.plot(range(len(y_test)), y_test, label='True value')\n",
    "    plt.plot(range(len(y_test)), y_res[:,1], ',', label='Prediction')\n",
    "    # plt.plot(range(len(y_test)), y_res[:,1]>thresh, '.')\n",
    "    plt.axhline(thresh, linewidth=0.25)\n",
    "    plt.legend()\n",
    "    plt.xlabel('Time')\n",
    "    plt.ylabel('Sleeping')"
   ]
  },
  {
   "cell_type": "code",
   "execution_count": 101,
   "metadata": {},
   "outputs": [
    {
     "data": {
      "image/png": "[encoded data removed]",
      "text/plain": [
       "<Figure size 640x480 with 1 Axes>"
      ]
     },
     "metadata": {},
     "output_type": "display_data"
    }
   ],
   "source": [
    "%matplotlib inline\n",
    "\n",
    "\n",
    "fig, ax = plt.subplots()\n",
    "\n",
    "plot_preds(0.5)\n"
   ]
  }
 ],
 "metadata": {
  "kernelspec": {
   "display_name": "base",
   "language": "python",
   "name": "python3"
  },
  "language_info": {
   "codemirror_mode": {
    "name": "ipython",
    "version": 3
   },
   "file_extension": ".py",
   "mimetype": "text/x-python",
   "name": "python",
   "nbconvert_exporter": "python",
   "pygments_lexer": "ipython3",
   "version": "3.11.6"
  }
 },
 "nbformat": 4,
 "nbformat_minor": 2
}
