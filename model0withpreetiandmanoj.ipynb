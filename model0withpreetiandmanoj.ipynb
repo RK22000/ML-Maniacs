{
 "cells": [
  {
   "cell_type": "code",
   "execution_count": 2,
   "metadata": {},
   "outputs": [],
   "source": [
    "import dataloader\n",
    "import pandas as pd\n",
    "import numpy as np"
   ]
  },
  {
   "cell_type": "code",
   "execution_count": 3,
   "metadata": {},
   "outputs": [
    {
     "data": {
      "text/html": [
       "<div>\n",
       "<style scoped>\n",
       "    .dataframe tbody tr th:only-of-type {\n",
       "        vertical-align: middle;\n",
       "    }\n",
       "\n",
       "    .dataframe tbody tr th {\n",
       "        vertical-align: top;\n",
       "    }\n",
       "\n",
       "    .dataframe thead th {\n",
       "        text-align: right;\n",
       "    }\n",
       "</style>\n",
       "<table border=\"1\" class=\"dataframe\">\n",
       "  <thead>\n",
       "    <tr style=\"text-align: right;\">\n",
       "      <th></th>\n",
       "      <th>series_id</th>\n",
       "      <th>night</th>\n",
       "      <th>event</th>\n",
       "      <th>step</th>\n",
       "      <th>timestamp</th>\n",
       "    </tr>\n",
       "  </thead>\n",
       "  <tbody>\n",
       "    <tr>\n",
       "      <th>5948</th>\n",
       "      <td>703b5efa9bc1</td>\n",
       "      <td>21</td>\n",
       "      <td>onset</td>\n",
       "      <td>NaN</td>\n",
       "      <td>NaN</td>\n",
       "    </tr>\n",
       "    <tr>\n",
       "      <th>6650</th>\n",
       "      <td>785c9ca4eff7</td>\n",
       "      <td>14</td>\n",
       "      <td>onset</td>\n",
       "      <td>229812.0</td>\n",
       "      <td>2018-10-03T22:56:00-0400</td>\n",
       "    </tr>\n",
       "    <tr>\n",
       "      <th>10863</th>\n",
       "      <td>ccdee561ee5d</td>\n",
       "      <td>28</td>\n",
       "      <td>wakeup</td>\n",
       "      <td>480228.0</td>\n",
       "      <td>2018-10-03T05:59:00-0400</td>\n",
       "    </tr>\n",
       "    <tr>\n",
       "      <th>2254</th>\n",
       "      <td>2654a87be968</td>\n",
       "      <td>29</td>\n",
       "      <td>onset</td>\n",
       "      <td>NaN</td>\n",
       "      <td>NaN</td>\n",
       "    </tr>\n",
       "    <tr>\n",
       "      <th>2550</th>\n",
       "      <td>2b0a1fa8eba8</td>\n",
       "      <td>3</td>\n",
       "      <td>onset</td>\n",
       "      <td>41076.0</td>\n",
       "      <td>2018-11-14T21:03:00-0500</td>\n",
       "    </tr>\n",
       "  </tbody>\n",
       "</table>\n",
       "</div>"
      ],
      "text/plain": [
       "          series_id  night   event      step                 timestamp\n",
       "5948   703b5efa9bc1     21   onset       NaN                       NaN\n",
       "6650   785c9ca4eff7     14   onset  229812.0  2018-10-03T22:56:00-0400\n",
       "10863  ccdee561ee5d     28  wakeup  480228.0  2018-10-03T05:59:00-0400\n",
       "2254   2654a87be968     29   onset       NaN                       NaN\n",
       "2550   2b0a1fa8eba8      3   onset   41076.0  2018-11-14T21:03:00-0500"
      ]
     },
     "execution_count": 3,
     "metadata": {},
     "output_type": "execute_result"
    }
   ],
   "source": [
    "events = pd.read_csv('data/train_events.csv')\n",
    "events.sample(5)"
   ]
  },
  {
   "cell_type": "code",
   "execution_count": 18,
   "metadata": {},
   "outputs": [],
   "source": [
    "sid = '08db4255286f'"
   ]
  },
  {
   "cell_type": "code",
   "execution_count": 19,
   "metadata": {},
   "outputs": [
    {
     "data": {
      "text/html": [
       "<div>\n",
       "<style scoped>\n",
       "    .dataframe tbody tr th:only-of-type {\n",
       "        vertical-align: middle;\n",
       "    }\n",
       "\n",
       "    .dataframe tbody tr th {\n",
       "        vertical-align: top;\n",
       "    }\n",
       "\n",
       "    .dataframe thead th {\n",
       "        text-align: right;\n",
       "    }\n",
       "</style>\n",
       "<table border=\"1\" class=\"dataframe\">\n",
       "  <thead>\n",
       "    <tr style=\"text-align: right;\">\n",
       "      <th></th>\n",
       "      <th>series_id</th>\n",
       "      <th>step</th>\n",
       "      <th>timestamp</th>\n",
       "      <th>anglez</th>\n",
       "      <th>enmo</th>\n",
       "    </tr>\n",
       "  </thead>\n",
       "  <tbody>\n",
       "    <tr>\n",
       "      <th>413617</th>\n",
       "      <td>08db4255286f</td>\n",
       "      <td>413617</td>\n",
       "      <td>2018-11-29 12:28:05+00:00</td>\n",
       "      <td>-54.370701</td>\n",
       "      <td>0.0023</td>\n",
       "    </tr>\n",
       "    <tr>\n",
       "      <th>291683</th>\n",
       "      <td>08db4255286f</td>\n",
       "      <td>291683</td>\n",
       "      <td>2018-11-22 11:06:55+00:00</td>\n",
       "      <td>-9.028800</td>\n",
       "      <td>0.0402</td>\n",
       "    </tr>\n",
       "    <tr>\n",
       "      <th>193469</th>\n",
       "      <td>08db4255286f</td>\n",
       "      <td>193469</td>\n",
       "      <td>2018-11-16 18:42:25+00:00</td>\n",
       "      <td>-40.578602</td>\n",
       "      <td>0.0082</td>\n",
       "    </tr>\n",
       "    <tr>\n",
       "      <th>312111</th>\n",
       "      <td>08db4255286f</td>\n",
       "      <td>312111</td>\n",
       "      <td>2018-11-23 15:29:15+00:00</td>\n",
       "      <td>-13.949000</td>\n",
       "      <td>0.0036</td>\n",
       "    </tr>\n",
       "    <tr>\n",
       "      <th>198120</th>\n",
       "      <td>08db4255286f</td>\n",
       "      <td>198120</td>\n",
       "      <td>2018-11-17 01:10:00+00:00</td>\n",
       "      <td>-13.769900</td>\n",
       "      <td>0.0246</td>\n",
       "    </tr>\n",
       "  </tbody>\n",
       "</table>\n",
       "</div>"
      ],
      "text/plain": [
       "           series_id    step                 timestamp     anglez    enmo\n",
       "413617  08db4255286f  413617 2018-11-29 12:28:05+00:00 -54.370701  0.0023\n",
       "291683  08db4255286f  291683 2018-11-22 11:06:55+00:00  -9.028800  0.0402\n",
       "193469  08db4255286f  193469 2018-11-16 18:42:25+00:00 -40.578602  0.0082\n",
       "312111  08db4255286f  312111 2018-11-23 15:29:15+00:00 -13.949000  0.0036\n",
       "198120  08db4255286f  198120 2018-11-17 01:10:00+00:00 -13.769900  0.0246"
      ]
     },
     "execution_count": 19,
     "metadata": {},
     "output_type": "execute_result"
    }
   ],
   "source": [
    "data = dataloader.acc_data_for_child(sid)\n",
    "data.sample(5)"
   ]
  },
  {
   "cell_type": "code",
   "execution_count": null,
   "metadata": {},
   "outputs": [],
   "source": []
  }
 ],
 "metadata": {
  "kernelspec": {
   "display_name": "base",
   "language": "python",
   "name": "python3"
  },
  "language_info": {
   "codemirror_mode": {
    "name": "ipython",
    "version": 3
   },
   "file_extension": ".py",
   "mimetype": "text/x-python",
   "name": "python",
   "nbconvert_exporter": "python",
   "pygments_lexer": "ipython3",
   "version": "3.11.6"
  }
 },
 "nbformat": 4,
 "nbformat_minor": 2
}
