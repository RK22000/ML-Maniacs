{
 "cells": [
  {
   "cell_type": "code",
   "execution_count": 2,
   "metadata": {
    "ExecuteTime": {
     "end_time": "2023-10-05T21:12:39.806658600Z",
     "start_time": "2023-10-05T21:12:28.828682Z"
    }
   },
   "outputs": [],
   "source": [
    "import pandas as pd\n",
    "import pyarrow.parquet as pq\n",
    "import os"
   ]
  },
  {
   "cell_type": "code",
   "execution_count": 16,
   "metadata": {
    "ExecuteTime": {
     "end_time": "2023-10-05T20:42:57.739485300Z",
     "start_time": "2023-10-05T20:42:57.702527300Z"
    }
   },
   "outputs": [
    {
     "data": {
      "text/plain": "      series_id  night   event     step                 timestamp\n0  038441c925bb      1   onset   4992.0  2018-08-14T22:26:00-0400\n1  038441c925bb      1  wakeup  10932.0  2018-08-15T06:41:00-0400\n2  038441c925bb      2   onset  20244.0  2018-08-15T19:37:00-0400\n3  038441c925bb      2  wakeup  27492.0  2018-08-16T05:41:00-0400\n4  038441c925bb      3   onset  39996.0  2018-08-16T23:03:00-0400",
      "text/html": "<div>\n<style scoped>\n    .dataframe tbody tr th:only-of-type {\n        vertical-align: middle;\n    }\n\n    .dataframe tbody tr th {\n        vertical-align: top;\n    }\n\n    .dataframe thead th {\n        text-align: right;\n    }\n</style>\n<table border=\"1\" class=\"dataframe\">\n  <thead>\n    <tr style=\"text-align: right;\">\n      <th></th>\n      <th>series_id</th>\n      <th>night</th>\n      <th>event</th>\n      <th>step</th>\n      <th>timestamp</th>\n    </tr>\n  </thead>\n  <tbody>\n    <tr>\n      <th>0</th>\n      <td>038441c925bb</td>\n      <td>1</td>\n      <td>onset</td>\n      <td>4992.0</td>\n      <td>2018-08-14T22:26:00-0400</td>\n    </tr>\n    <tr>\n      <th>1</th>\n      <td>038441c925bb</td>\n      <td>1</td>\n      <td>wakeup</td>\n      <td>10932.0</td>\n      <td>2018-08-15T06:41:00-0400</td>\n    </tr>\n    <tr>\n      <th>2</th>\n      <td>038441c925bb</td>\n      <td>2</td>\n      <td>onset</td>\n      <td>20244.0</td>\n      <td>2018-08-15T19:37:00-0400</td>\n    </tr>\n    <tr>\n      <th>3</th>\n      <td>038441c925bb</td>\n      <td>2</td>\n      <td>wakeup</td>\n      <td>27492.0</td>\n      <td>2018-08-16T05:41:00-0400</td>\n    </tr>\n    <tr>\n      <th>4</th>\n      <td>038441c925bb</td>\n      <td>3</td>\n      <td>onset</td>\n      <td>39996.0</td>\n      <td>2018-08-16T23:03:00-0400</td>\n    </tr>\n  </tbody>\n</table>\n</div>"
     },
     "execution_count": 16,
     "metadata": {},
     "output_type": "execute_result"
    }
   ],
   "source": [
    "events = pd.read_csv('data/train_events.csv')\n",
    "events.head()"
   ]
  },
  {
   "cell_type": "code",
   "execution_count": 8,
   "outputs": [],
   "source": [
    "input_path = \"dataOutput/chunk_0.parquet\"\n",
    "output_dir = \"dataOutput/500mb\"\n",
    "chunk_size = 100 * 1024 * 1024  # 10 MB in bytes"
   ],
   "metadata": {
    "collapsed": false,
    "ExecuteTime": {
     "end_time": "2023-10-05T21:18:06.091450400Z",
     "start_time": "2023-10-05T21:18:06.055286700Z"
    }
   }
  },
  {
   "cell_type": "code",
   "execution_count": 9,
   "outputs": [
    {
     "name": "stdout",
     "output_type": "stream",
     "text": [
      "Saved chunk 0 to dataOutput/500mb\\chunk_0.parquet\n",
      "Saved chunk 1 to dataOutput/500mb\\chunk_1.parquet\n",
      "Saved chunk 2 to dataOutput/500mb\\chunk_2.parquet\n",
      "Saved chunk 3 to dataOutput/500mb\\chunk_3.parquet\n",
      "Saved chunk 4 to dataOutput/500mb\\chunk_4.parquet\n",
      "Saved chunk 5 to dataOutput/500mb\\chunk_5.parquet\n",
      "Saved chunk 6 to dataOutput/500mb\\chunk_6.parquet\n",
      "Saved chunk 7 to dataOutput/500mb\\chunk_7.parquet\n",
      "Saved chunk 8 to dataOutput/500mb\\chunk_8.parquet\n",
      "Saved chunk 9 to dataOutput/500mb\\chunk_9.parquet\n"
     ]
    }
   ],
   "source": [
    "# Ensure the output directory exists\n",
    "if not os.path.exists(output_dir):\n",
    "    os.makedirs(output_dir)\n",
    "\n",
    "# Open the Parquet file\n",
    "parquet_file = pq.ParquetFile(input_path)\n",
    "\n",
    "# Calculate the number of rows to achieve the desired chunk size\n",
    "row_group_size = parquet_file.metadata.row_group(0).total_byte_size\n",
    "rows_per_chunk = chunk_size // row_group_size if row_group_size < chunk_size else 1\n",
    "\n",
    "# Since the logic is now based on row groups, we need to adjust the loop to iterate over row groups\n",
    "num_row_groups = parquet_file.num_row_groups\n",
    "\n",
    "# Iterate over the file in chunks\n",
    "for i in range(0, num_row_groups, rows_per_chunk):\n",
    "    # We might end up reading multiple row groups if they are smaller than the desired chunk size\n",
    "    dataframes = [parquet_file.read_row_group(j).to_pandas() for j in range(i, min(i + rows_per_chunk, num_row_groups))]\n",
    "    chunk = pd.concat(dataframes)\n",
    "    output_path = os.path.join(output_dir, f'chunk_{i//rows_per_chunk}.parquet')\n",
    "    chunk.to_parquet(output_path)\n",
    "    print(f\"Saved chunk {i//rows_per_chunk} to {output_path}\")"
   ],
   "metadata": {
    "collapsed": false,
    "ExecuteTime": {
     "end_time": "2023-10-05T21:18:27.401647700Z",
     "start_time": "2023-10-05T21:18:09.360195700Z"
    }
   }
  },
  {
   "cell_type": "code",
   "execution_count": 4,
   "outputs": [
    {
     "data": {
      "text/plain": "      series_id  step                 timestamp  anglez    enmo\n0  038441c925bb     0  2018-08-14T15:30:00-0400  2.6367  0.0217\n1  038441c925bb     1  2018-08-14T15:30:05-0400  2.6368  0.0215\n2  038441c925bb     2  2018-08-14T15:30:10-0400  2.6370  0.0216\n3  038441c925bb     3  2018-08-14T15:30:15-0400  2.6368  0.0213\n4  038441c925bb     4  2018-08-14T15:30:20-0400  2.6368  0.0215",
      "text/html": "<div>\n<style scoped>\n    .dataframe tbody tr th:only-of-type {\n        vertical-align: middle;\n    }\n\n    .dataframe tbody tr th {\n        vertical-align: top;\n    }\n\n    .dataframe thead th {\n        text-align: right;\n    }\n</style>\n<table border=\"1\" class=\"dataframe\">\n  <thead>\n    <tr style=\"text-align: right;\">\n      <th></th>\n      <th>series_id</th>\n      <th>step</th>\n      <th>timestamp</th>\n      <th>anglez</th>\n      <th>enmo</th>\n    </tr>\n  </thead>\n  <tbody>\n    <tr>\n      <th>0</th>\n      <td>038441c925bb</td>\n      <td>0</td>\n      <td>2018-08-14T15:30:00-0400</td>\n      <td>2.6367</td>\n      <td>0.0217</td>\n    </tr>\n    <tr>\n      <th>1</th>\n      <td>038441c925bb</td>\n      <td>1</td>\n      <td>2018-08-14T15:30:05-0400</td>\n      <td>2.6368</td>\n      <td>0.0215</td>\n    </tr>\n    <tr>\n      <th>2</th>\n      <td>038441c925bb</td>\n      <td>2</td>\n      <td>2018-08-14T15:30:10-0400</td>\n      <td>2.6370</td>\n      <td>0.0216</td>\n    </tr>\n    <tr>\n      <th>3</th>\n      <td>038441c925bb</td>\n      <td>3</td>\n      <td>2018-08-14T15:30:15-0400</td>\n      <td>2.6368</td>\n      <td>0.0213</td>\n    </tr>\n    <tr>\n      <th>4</th>\n      <td>038441c925bb</td>\n      <td>4</td>\n      <td>2018-08-14T15:30:20-0400</td>\n      <td>2.6368</td>\n      <td>0.0215</td>\n    </tr>\n  </tbody>\n</table>\n</div>"
     },
     "execution_count": 4,
     "metadata": {},
     "output_type": "execute_result"
    }
   ],
   "source": [
    "series = pd.read_parquet(\"dataOutput/chunk_0.parquet\", engine='fastparquet')\n",
    "series.head()"
   ],
   "metadata": {
    "collapsed": false,
    "ExecuteTime": {
     "end_time": "2023-10-05T21:13:23.235718400Z",
     "start_time": "2023-10-05T21:13:19.774165700Z"
    }
   }
  },
  {
   "cell_type": "code",
   "execution_count": null,
   "outputs": [],
   "source": [],
   "metadata": {
    "collapsed": false
   }
  }
 ],
 "metadata": {
  "kernelspec": {
   "display_name": "base",
   "language": "python",
   "name": "python3"
  },
  "language_info": {
   "codemirror_mode": {
    "name": "ipython",
    "version": 3
   },
   "file_extension": ".py",
   "mimetype": "text/x-python",
   "name": "python",
   "nbconvert_exporter": "python",
   "pygments_lexer": "ipython3",
   "version": "3.11.4"
  },
  "orig_nbformat": 4
 },
 "nbformat": 4,
 "nbformat_minor": 2
}
